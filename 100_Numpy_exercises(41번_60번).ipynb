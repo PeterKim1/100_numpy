{
  "nbformat": 4,
  "nbformat_minor": 0,
  "metadata": {
    "kernelspec": {
      "display_name": "Python 3",
      "language": "python",
      "name": "python3"
    },
    "language_info": {
      "codemirror_mode": {
        "name": "ipython",
        "version": 3
      },
      "file_extension": ".py",
      "mimetype": "text/x-python",
      "name": "python",
      "nbconvert_exporter": "python",
      "pygments_lexer": "ipython3",
      "version": "3.7.7"
    },
    "colab": {
      "name": "100_Numpy_exercises(41번-60번).ipynb",
      "provenance": [],
      "collapsed_sections": [],
      "toc_visible": true
    }
  },
  "cells": [
    {
      "cell_type": "markdown",
      "metadata": {
        "id": "sbQI7FBSU_tk"
      },
      "source": [
        "# 100 numpy exercises\n",
        "\n",
        "This is a collection of exercises that have been collected in the numpy mailing list, on stack overflow\n",
        "and in the numpy documentation. The goal of this collection is to offer a quick reference for both old\n",
        "and new users but also to provide a set of exercises for those who teach.\n",
        "\n",
        "\n",
        "If you find an error or think you've a better way to solve some of them, feel\n",
        "free to open an issue at <https://github.com/rougier/numpy-100>."
      ]
    },
    {
      "cell_type": "code",
      "metadata": {
        "id": "YGtjHrkQWd2f"
      },
      "source": [
        "import os\n",
        "\n",
        "os.chdir('/content/drive/MyDrive/numpy-100')"
      ],
      "execution_count": null,
      "outputs": []
    },
    {
      "cell_type": "code",
      "metadata": {
        "colab": {
          "base_uri": "https://localhost:8080/"
        },
        "id": "RycfSIAYGtR1",
        "outputId": "584aa575-3947-49f5-a134-be6196b3e975"
      },
      "source": [
        "!pip install mdutils"
      ],
      "execution_count": null,
      "outputs": [
        {
          "output_type": "stream",
          "text": [
            "Collecting mdutils\n",
            "  Downloading https://files.pythonhosted.org/packages/59/52/3d943b6d02a9938ad367366aef8b002c5c1bf258e451db5e8551b3d28801/mdutils-1.3.0.tar.gz\n",
            "Building wheels for collected packages: mdutils\n",
            "  Building wheel for mdutils (setup.py) ... \u001b[?25l\u001b[?25hdone\n",
            "  Created wheel for mdutils: filename=mdutils-1.3.0-cp37-none-any.whl size=19449 sha256=26ea339db828c860fdf02182aadd568224703c8d7abaae4bee4a37590cd88809\n",
            "  Stored in directory: /root/.cache/pip/wheels/af/fa/1c/7b13e92bdfc39eda5970b21a15f04f6a5158dea4e3f459854d\n",
            "Successfully built mdutils\n",
            "Installing collected packages: mdutils\n",
            "Successfully installed mdutils-1.3.0\n"
          ],
          "name": "stdout"
        }
      ]
    },
    {
      "cell_type": "markdown",
      "metadata": {
        "id": "OXXrTtpwU_to"
      },
      "source": [
        "File automatically generated. See the documentation to update questions/answers/hints programmatically."
      ]
    },
    {
      "cell_type": "markdown",
      "metadata": {
        "id": "l_kGpIRPU_to"
      },
      "source": [
        "Run the `initialize.py` module, then for each question you can query the\n",
        "answer or an hint with `hint(n)` or `answer(n)` for `n` question number."
      ]
    },
    {
      "cell_type": "code",
      "metadata": {
        "id": "FXECzEtZU_to"
      },
      "source": [
        "%run initialise.py"
      ],
      "execution_count": null,
      "outputs": []
    },
    {
      "cell_type": "markdown",
      "metadata": {
        "id": "STt9xHetU_t0"
      },
      "source": [
        "#### 41. How to sum a small array faster than np.sum? (★★☆)"
      ]
    },
    {
      "cell_type": "code",
      "metadata": {
        "id": "AJTtmSXYU_t0",
        "colab": {
          "base_uri": "https://localhost:8080/"
        },
        "outputId": "f123c549-3816-43bd-bde0-ce25490ca9e1"
      },
      "source": [
        "Z = np.arange(10)\n",
        "\n",
        "print(np.add.reduce(Z))"
      ],
      "execution_count": null,
      "outputs": [
        {
          "output_type": "stream",
          "text": [
            "45\n"
          ],
          "name": "stdout"
        }
      ]
    },
    {
      "cell_type": "code",
      "metadata": {
        "colab": {
          "base_uri": "https://localhost:8080/"
        },
        "id": "zAQtMCdLaJNr",
        "outputId": "1a792b02-67f1-42e4-c413-6d08bae47bf1"
      },
      "source": [
        "hint(41)"
      ],
      "execution_count": null,
      "outputs": [
        {
          "output_type": "stream",
          "text": [
            "hint: np.add.reduce\n"
          ],
          "name": "stdout"
        }
      ]
    },
    {
      "cell_type": "markdown",
      "metadata": {
        "id": "Y7LyafMlU_t0"
      },
      "source": [
        "#### 42. Consider two random array A and B, check if they are equal (★★☆)"
      ]
    },
    {
      "cell_type": "code",
      "metadata": {
        "id": "a-PV5pB0U_t0",
        "colab": {
          "base_uri": "https://localhost:8080/"
        },
        "outputId": "ea20afbc-4ee4-4f06-b381-bc055c99a6e7"
      },
      "source": [
        "A = np.array([1, 2, 3, 4])\n",
        "B = np.array([1, 2, 3, 4])\n",
        "\n",
        "print(np.equal(A, B)) # 요소 별로 같은지 확인\n",
        "print(np.array_equal(A, B)) # 완전히 다 같은지 확인, shape / element 모두 같아야함.\n",
        "\n",
        "C = np.array([1, 2, 3, 4])\n",
        "D = np.array([1, 2, 3, 5])\n",
        "\n",
        "print(np.equal(C, D))\n",
        "print(np.array_equal(C, D))"
      ],
      "execution_count": null,
      "outputs": [
        {
          "output_type": "stream",
          "text": [
            "[ True  True  True  True]\n",
            "True\n",
            "[ True  True  True False]\n",
            "False\n",
            "False\n"
          ],
          "name": "stdout"
        }
      ]
    },
    {
      "cell_type": "code",
      "metadata": {
        "colab": {
          "base_uri": "https://localhost:8080/"
        },
        "id": "O5eslJsSblbJ",
        "outputId": "f0b32979-ada1-483b-a439-47adbc4c4957"
      },
      "source": [
        "answer(42)"
      ],
      "execution_count": null,
      "outputs": [
        {
          "output_type": "stream",
          "text": [
            "A = np.random.randint(0,2,5)\n",
            "B = np.random.randint(0,2,5)\n",
            "\n",
            "# Assuming identical shape of the arrays and a tolerance for the comparison of values\n",
            "equal = np.allclose(A,B)\n",
            "print(equal)\n",
            "\n",
            "# Checking both the shape and the element values, no tolerance (values have to be exactly equal)\n",
            "equal = np.array_equal(A,B)\n",
            "print(equal)\n"
          ],
          "name": "stdout"
        }
      ]
    },
    {
      "cell_type": "markdown",
      "metadata": {
        "id": "e6t19nw6U_t0"
      },
      "source": [
        "#### 43. Make an array immutable (read-only) (★★☆)"
      ]
    },
    {
      "cell_type": "code",
      "metadata": {
        "id": "09HxaafsU_t0",
        "colab": {
          "base_uri": "https://localhost:8080/",
          "height": 280
        },
        "outputId": "d93a2da3-c9e4-4b84-e147-51cffbebd7fa"
      },
      "source": [
        "A = np.arange(10)\n",
        "print(A)\n",
        "print(A.flags.writeable)\n",
        "\n",
        "# Make immutable\n",
        "A.flags.writeable = False\n",
        "\n",
        "print(A)\n",
        "print(A.flags.writeable)\n",
        "\n",
        "A[0] = 2 # make ValueError"
      ],
      "execution_count": null,
      "outputs": [
        {
          "output_type": "stream",
          "text": [
            "[0 1 2 3 4 5 6 7 8 9]\n",
            "True\n",
            "[0 1 2 3 4 5 6 7 8 9]\n",
            "False\n"
          ],
          "name": "stdout"
        },
        {
          "output_type": "error",
          "ename": "ValueError",
          "evalue": "ignored",
          "traceback": [
            "\u001b[0;31m---------------------------------------------------------------------------\u001b[0m",
            "\u001b[0;31mValueError\u001b[0m                                Traceback (most recent call last)",
            "\u001b[0;32m<ipython-input-123-92a232be38ee>\u001b[0m in \u001b[0;36m<module>\u001b[0;34m()\u001b[0m\n\u001b[1;32m      6\u001b[0m \u001b[0mprint\u001b[0m\u001b[0;34m(\u001b[0m\u001b[0mA\u001b[0m\u001b[0;34m)\u001b[0m\u001b[0;34m\u001b[0m\u001b[0;34m\u001b[0m\u001b[0m\n\u001b[1;32m      7\u001b[0m \u001b[0mprint\u001b[0m\u001b[0;34m(\u001b[0m\u001b[0mA\u001b[0m\u001b[0;34m.\u001b[0m\u001b[0mflags\u001b[0m\u001b[0;34m.\u001b[0m\u001b[0mwriteable\u001b[0m\u001b[0;34m)\u001b[0m\u001b[0;34m\u001b[0m\u001b[0;34m\u001b[0m\u001b[0m\n\u001b[0;32m----> 8\u001b[0;31m \u001b[0mA\u001b[0m\u001b[0;34m[\u001b[0m\u001b[0;36m0\u001b[0m\u001b[0;34m]\u001b[0m \u001b[0;34m=\u001b[0m \u001b[0;36m2\u001b[0m\u001b[0;34m\u001b[0m\u001b[0;34m\u001b[0m\u001b[0m\n\u001b[0m",
            "\u001b[0;31mValueError\u001b[0m: assignment destination is read-only"
          ]
        }
      ]
    },
    {
      "cell_type": "code",
      "metadata": {
        "colab": {
          "base_uri": "https://localhost:8080/"
        },
        "id": "aanbzZ8dcwxa",
        "outputId": "01a90fd5-ed20-4c6c-87ba-dcb1a395fc38"
      },
      "source": [
        "answer(43)"
      ],
      "execution_count": null,
      "outputs": [
        {
          "output_type": "stream",
          "text": [
            "Z = np.zeros(10)\n",
            "Z.flags.writeable = False\n",
            "Z[0] = 1\n"
          ],
          "name": "stdout"
        }
      ]
    },
    {
      "cell_type": "markdown",
      "metadata": {
        "id": "Q04x4aWOU_t0"
      },
      "source": [
        "#### 44. Consider a random 10x2 matrix representing cartesian coordinates, convert them to polar coordinates (★★☆)"
      ]
    },
    {
      "cell_type": "code",
      "metadata": {
        "id": "m7Yhn25zU_t1",
        "colab": {
          "base_uri": "https://localhost:8080/"
        },
        "outputId": "3a799d77-fcd9-479d-b303-4c5e75d39c38"
      },
      "source": [
        "A = np.random.random((10, 2))\n",
        "print(A)\n",
        "\n",
        "x, y = A[:, 0], A[:, 1]\n",
        "r = np.sqrt(x**2 + y**2)\n",
        "phi = np.arctan2(y, x) # tan = y / x 이므로, arctan을 이용해서 각도를 구한다. np.arctan2은 arctangent of x1 / x2이며, 출력 범위가 [-pi , pi]이다.\n",
        "print(r)\n",
        "print(phi)"
      ],
      "execution_count": null,
      "outputs": [
        {
          "output_type": "stream",
          "text": [
            "[[0.77718467 0.10761439]\n",
            " [0.7871605  0.07291056]\n",
            " [0.66487176 0.17515174]\n",
            " [0.31934029 0.32167685]\n",
            " [0.49576433 0.76835583]\n",
            " [0.10692424 0.75043755]\n",
            " [0.45761413 0.01872655]\n",
            " [0.48222247 0.68282023]\n",
            " [0.98596825 0.68630734]\n",
            " [0.99528915 0.03587467]]\n",
            "[0.78459982 0.79052995 0.68755551 0.45327058 0.91441399 0.7580167\n",
            " 0.45799713 0.8359318  1.20131227 0.99593548]\n",
            "[0.13759204 0.09236124 0.25758461 0.78904323 0.99778342 1.42926641\n",
            " 0.04089932 0.95590692 0.60808653 0.03602888]\n"
          ],
          "name": "stdout"
        }
      ]
    },
    {
      "cell_type": "code",
      "metadata": {
        "colab": {
          "base_uri": "https://localhost:8080/"
        },
        "id": "S905-Hzfdvh8",
        "outputId": "170415a6-918b-45e8-d97a-ebe2966877ec"
      },
      "source": [
        "answer(44)"
      ],
      "execution_count": null,
      "outputs": [
        {
          "output_type": "stream",
          "text": [
            "Z = np.random.random((10,2))\n",
            "X,Y = Z[:,0], Z[:,1]\n",
            "R = np.sqrt(X**2+Y**2)\n",
            "T = np.arctan2(Y,X)\n",
            "print(R)\n",
            "print(T)\n"
          ],
          "name": "stdout"
        }
      ]
    },
    {
      "cell_type": "markdown",
      "metadata": {
        "id": "XectvLuPU_t1"
      },
      "source": [
        "#### 45. Create random vector of size 10 and replace the maximum value by 0 (★★☆)"
      ]
    },
    {
      "cell_type": "code",
      "metadata": {
        "id": "1BbdZ0KyU_t1",
        "colab": {
          "base_uri": "https://localhost:8080/"
        },
        "outputId": "fdf0805a-f74c-43c5-d59a-d1a76a53bb85"
      },
      "source": [
        "A = np.random.random(10)\n",
        "A[A.argmax()] = 0 \n",
        "print(A)"
      ],
      "execution_count": null,
      "outputs": [
        {
          "output_type": "stream",
          "text": [
            "[0.24053676 0.30389194 0.19146807 0.50838178 0.31375528 0.12193417\n",
            " 0.73050676 0.         0.3832864  0.13906292]\n"
          ],
          "name": "stdout"
        }
      ]
    },
    {
      "cell_type": "code",
      "metadata": {
        "colab": {
          "base_uri": "https://localhost:8080/"
        },
        "id": "BKKRPnMPgQxg",
        "outputId": "816409de-be59-48ab-804a-62b287754979"
      },
      "source": [
        "answer(45)"
      ],
      "execution_count": null,
      "outputs": [
        {
          "output_type": "stream",
          "text": [
            "Z = np.random.random(10)\n",
            "Z[Z.argmax()] = 0\n",
            "print(Z)\n"
          ],
          "name": "stdout"
        }
      ]
    },
    {
      "cell_type": "markdown",
      "metadata": {
        "id": "FAZXl5D0U_t1"
      },
      "source": [
        "#### 46. Create a structured array with `x` and `y` coordinates covering the [0,1]x[0,1] area (★★☆)"
      ]
    },
    {
      "cell_type": "code",
      "metadata": {
        "id": "2AnmrKUlU_t1",
        "colab": {
          "base_uri": "https://localhost:8080/"
        },
        "outputId": "01cec635-1c66-4fbf-9948-6ec426395010"
      },
      "source": [
        "Z = np.zeros((5, 5), [('x', float), ('y', float)]) # Custom dtype 가능\n",
        "\n",
        "print(Z)\n",
        "\n",
        "Z['x'], Z['y'] = np.meshgrid(np.linspace(0, 1, 5), np.linspace(0, 1, 5))\n",
        "\n",
        "print(Z)"
      ],
      "execution_count": null,
      "outputs": [
        {
          "output_type": "stream",
          "text": [
            "[[(0., 0.) (0., 0.) (0., 0.) (0., 0.) (0., 0.)]\n",
            " [(0., 0.) (0., 0.) (0., 0.) (0., 0.) (0., 0.)]\n",
            " [(0., 0.) (0., 0.) (0., 0.) (0., 0.) (0., 0.)]\n",
            " [(0., 0.) (0., 0.) (0., 0.) (0., 0.) (0., 0.)]\n",
            " [(0., 0.) (0., 0.) (0., 0.) (0., 0.) (0., 0.)]]\n",
            "[[(0.  , 0.  ) (0.25, 0.  ) (0.5 , 0.  ) (0.75, 0.  ) (1.  , 0.  )]\n",
            " [(0.  , 0.25) (0.25, 0.25) (0.5 , 0.25) (0.75, 0.25) (1.  , 0.25)]\n",
            " [(0.  , 0.5 ) (0.25, 0.5 ) (0.5 , 0.5 ) (0.75, 0.5 ) (1.  , 0.5 )]\n",
            " [(0.  , 0.75) (0.25, 0.75) (0.5 , 0.75) (0.75, 0.75) (1.  , 0.75)]\n",
            " [(0.  , 1.  ) (0.25, 1.  ) (0.5 , 1.  ) (0.75, 1.  ) (1.  , 1.  )]]\n"
          ],
          "name": "stdout"
        }
      ]
    },
    {
      "cell_type": "code",
      "metadata": {
        "colab": {
          "base_uri": "https://localhost:8080/"
        },
        "id": "CvNxmvNr7Iig",
        "outputId": "1ef67509-d95b-4db5-d9c5-2626449d82da"
      },
      "source": [
        "answer(46)"
      ],
      "execution_count": null,
      "outputs": [
        {
          "output_type": "stream",
          "text": [
            "Z = np.zeros((5,5), [('x',float),('y',float)])\n",
            "Z['x'], Z['y'] = np.meshgrid(np.linspace(0,1,5),\n",
            "                             np.linspace(0,1,5))\n",
            "print(Z)\n"
          ],
          "name": "stdout"
        }
      ]
    },
    {
      "cell_type": "markdown",
      "metadata": {
        "id": "chqUiCozU_t1"
      },
      "source": [
        "#### 47. Given two arrays, X and Y, construct the Cauchy matrix C (Cij =1/(xi - yj))"
      ]
    },
    {
      "cell_type": "code",
      "metadata": {
        "id": "MT3d1vhYU_t1",
        "colab": {
          "base_uri": "https://localhost:8080/"
        },
        "outputId": "7309b461-8ae0-4394-e4b1-6b24658f005a"
      },
      "source": [
        "X = np.array([1, 2, 3, 4, 5])\n",
        "Y = np.array([6, 7, 8, 9, 10])\n",
        "\n",
        "result = np.subtract.outer(X, Y) # (xi - yj)\n",
        "print(result)\n",
        "\n",
        "result = 1 / result\n",
        "print(result)"
      ],
      "execution_count": null,
      "outputs": [
        {
          "output_type": "stream",
          "text": [
            "[[-5 -6 -7 -8 -9]\n",
            " [-4 -5 -6 -7 -8]\n",
            " [-3 -4 -5 -6 -7]\n",
            " [-2 -3 -4 -5 -6]\n",
            " [-1 -2 -3 -4 -5]]\n",
            "[[-0.2        -0.16666667 -0.14285714 -0.125      -0.11111111]\n",
            " [-0.25       -0.2        -0.16666667 -0.14285714 -0.125     ]\n",
            " [-0.33333333 -0.25       -0.2        -0.16666667 -0.14285714]\n",
            " [-0.5        -0.33333333 -0.25       -0.2        -0.16666667]\n",
            " [-1.         -0.5        -0.33333333 -0.25       -0.2       ]]\n"
          ],
          "name": "stdout"
        }
      ]
    },
    {
      "cell_type": "code",
      "metadata": {
        "colab": {
          "base_uri": "https://localhost:8080/"
        },
        "id": "qClsXZwf_2Vq",
        "outputId": "b273767a-e1db-49fe-968a-f2fbd315c119"
      },
      "source": [
        "answer(47)"
      ],
      "execution_count": null,
      "outputs": [
        {
          "output_type": "stream",
          "text": [
            "# Author: Evgeni Burovski\n",
            "\n",
            "X = np.arange(8)\n",
            "Y = X + 0.5\n",
            "C = 1.0 / np.subtract.outer(X, Y)\n",
            "print(np.linalg.det(C))\n"
          ],
          "name": "stdout"
        }
      ]
    },
    {
      "cell_type": "markdown",
      "metadata": {
        "id": "Hon-UQcwU_t1"
      },
      "source": [
        "#### 48. Print the minimum and maximum representable value for each numpy scalar type (★★☆)"
      ]
    },
    {
      "cell_type": "code",
      "metadata": {
        "id": "reJN7YbvU_t2",
        "colab": {
          "base_uri": "https://localhost:8080/"
        },
        "outputId": "0543210b-a288-4cfa-9fc1-a31db451e3bd"
      },
      "source": [
        "# int info\n",
        "print(np.iinfo(np.int16).min)\n",
        "print(np.iinfo(np.int32).min)\n",
        "\n",
        "# float info\n",
        "print(np.finfo(np.float16).min)\n",
        "print(np.finfo(np.float16).max)\n",
        "print(np.finfo(np.float16).eps) # smallest representable number such that 1.0 + eps != 1.0"
      ],
      "execution_count": null,
      "outputs": [
        {
          "output_type": "stream",
          "text": [
            "-32768\n",
            "-2147483648\n",
            "-65500.0\n",
            "65500.0\n",
            "0.000977\n"
          ],
          "name": "stdout"
        }
      ]
    },
    {
      "cell_type": "code",
      "metadata": {
        "colab": {
          "base_uri": "https://localhost:8080/"
        },
        "id": "2OeaCB8MItDE",
        "outputId": "b61e57b6-af17-4c96-db1b-a60085baf8fa"
      },
      "source": [
        "answer(48)"
      ],
      "execution_count": null,
      "outputs": [
        {
          "output_type": "stream",
          "text": [
            "for dtype in [np.int8, np.int32, np.int64]:\n",
            "   print(np.iinfo(dtype).min)\n",
            "   print(np.iinfo(dtype).max)\n",
            "for dtype in [np.float32, np.float64]:\n",
            "   print(np.finfo(dtype).min)\n",
            "   print(np.finfo(dtype).max)\n",
            "   print(np.finfo(dtype).eps)\n"
          ],
          "name": "stdout"
        }
      ]
    },
    {
      "cell_type": "markdown",
      "metadata": {
        "id": "K56-VzexU_t2"
      },
      "source": [
        "#### 49. How to print all the values of an array? (★★☆)"
      ]
    },
    {
      "cell_type": "code",
      "metadata": {
        "id": "DHQOMHtFU_t2",
        "colab": {
          "base_uri": "https://localhost:8080/"
        },
        "outputId": "ebebdd84-2ed0-4e72-ccce-37ad242772b6"
      },
      "source": [
        "import sys\n",
        "print(\"sys.maxsize: \", sys.maxsize)\n",
        "np.set_printoptions(threshold = sys.maxsize) # Document에 따르면 이렇게 표현하는게 맞는듯.\n",
        "Z = np.random.random(10)\n",
        "print(Z)"
      ],
      "execution_count": null,
      "outputs": [
        {
          "output_type": "stream",
          "text": [
            "sys.maxsize:  9223372036854775807\n",
            "[0.8789165815452501  0.8951990165438026  0.628274307134482\n",
            " 0.5035553602934985  0.510261791673288   0.3362004488759789\n",
            " 0.27736050898163245 0.8742275295966666  0.6120004671155443\n",
            " 0.37121841622323326]\n"
          ],
          "name": "stdout"
        }
      ]
    },
    {
      "cell_type": "markdown",
      "metadata": {
        "id": "5P_Qv45qU_t2"
      },
      "source": [
        "#### 50. How to find the closest value (to a given scalar) in a vector? (★★☆)"
      ]
    },
    {
      "cell_type": "code",
      "metadata": {
        "id": "uzfTn8NUU_t2",
        "colab": {
          "base_uri": "https://localhost:8080/"
        },
        "outputId": "4d0a634e-06e3-4126-8a13-bff07b624f46"
      },
      "source": [
        "given_scalar = np.array([3])\n",
        "A = np.arange(10)\n",
        "\n",
        "index = (np.abs(given_scalar - A)).argmin()\n",
        "print(A[index])"
      ],
      "execution_count": null,
      "outputs": [
        {
          "output_type": "stream",
          "text": [
            "3\n"
          ],
          "name": "stdout"
        }
      ]
    },
    {
      "cell_type": "markdown",
      "metadata": {
        "id": "irGpHR-4U_t2"
      },
      "source": [
        "#### 51. Create a structured array representing a position (x,y) and a color (r,g,b) (★★☆)"
      ]
    },
    {
      "cell_type": "code",
      "metadata": {
        "id": "QMC-d5VMU_t2",
        "colab": {
          "base_uri": "https://localhost:8080/"
        },
        "outputId": "9151084e-d66e-4c0c-e9d3-3a0e41b972c2"
      },
      "source": [
        "A = np.zeros(10, [('position', [('x', float),\n",
        "                                ('y', float)]),\n",
        "                  ('color',    [('r', float),\n",
        "                                ('g', float),\n",
        "                                ('b', float)])])\n",
        "\n",
        "print(A)"
      ],
      "execution_count": null,
      "outputs": [
        {
          "output_type": "stream",
          "text": [
            "[((0., 0.), (0., 0., 0.)) ((0., 0.), (0., 0., 0.))\n",
            " ((0., 0.), (0., 0., 0.)) ((0., 0.), (0., 0., 0.))\n",
            " ((0., 0.), (0., 0., 0.)) ((0., 0.), (0., 0., 0.))\n",
            " ((0., 0.), (0., 0., 0.)) ((0., 0.), (0., 0., 0.))\n",
            " ((0., 0.), (0., 0., 0.)) ((0., 0.), (0., 0., 0.))]\n"
          ],
          "name": "stdout"
        }
      ]
    },
    {
      "cell_type": "code",
      "metadata": {
        "colab": {
          "base_uri": "https://localhost:8080/"
        },
        "id": "a0B4xtVlPnis",
        "outputId": "6934f385-cb63-451e-f6a1-ea2b920213ff"
      },
      "source": [
        "answer(51)"
      ],
      "execution_count": null,
      "outputs": [
        {
          "output_type": "stream",
          "text": [
            "Z = np.zeros(10, [ ('position', [ ('x', float, 1),\n",
            "                                  ('y', float, 1)]),\n",
            "                   ('color',    [ ('r', float, 1),\n",
            "                                  ('g', float, 1),\n",
            "                                  ('b', float, 1)])])\n",
            "print(Z)\n"
          ],
          "name": "stdout"
        }
      ]
    },
    {
      "cell_type": "markdown",
      "metadata": {
        "id": "H7lCklThU_t2"
      },
      "source": [
        "#### 52. Consider a random vector with shape (100,2) representing coordinates, find point by point distances (★★☆)\n",
        "각 좌표간의 거리를 matrix 형태로 구하라."
      ]
    },
    {
      "cell_type": "code",
      "metadata": {
        "id": "iOI6kBhYU_t3",
        "colab": {
          "base_uri": "https://localhost:8080/"
        },
        "outputId": "31c94c0d-a1ca-4922-805c-8c916dc32dfd"
      },
      "source": [
        "Z = np.random.random((5, 2))\n",
        "print(Z[:, 0].shape) # 하나의 column만 빼면 원래는 1차원이 됨\n",
        "x, y = np.atleast_2d(Z[:, 0], Z[:, 1]) # np.atleast_2d를 적용하면 이를 2차원으로 만들어줌\n",
        "\n",
        "print(x)\n",
        "print(x.T)\n",
        "print(x-x.T)\n",
        "\n",
        "Dis = np.sqrt( (x-x.T)**2 + (y-y.T)**2 )\n",
        "print(Dis)"
      ],
      "execution_count": null,
      "outputs": [
        {
          "output_type": "stream",
          "text": [
            "(5,)\n",
            "[[0.8168 0.7256 0.1798 0.5083 0.5491]]\n",
            "[[0.8168]\n",
            " [0.7256]\n",
            " [0.1798]\n",
            " [0.5083]\n",
            " [0.5491]]\n",
            "[[ 0.     -0.0912 -0.637  -0.3085 -0.2677]\n",
            " [ 0.0912  0.     -0.5457 -0.2173 -0.1765]\n",
            " [ 0.637   0.5457  0.      0.3284  0.3693]\n",
            " [ 0.3085  0.2173 -0.3284  0.      0.0408]\n",
            " [ 0.2677  0.1765 -0.3693 -0.0408  0.    ]]\n",
            "[[0.     0.5633 0.8524 0.7561 0.7319]\n",
            " [0.5633 0.     0.5458 0.2556 0.2165]\n",
            " [0.8524 0.5458 0.     0.351  0.3867]\n",
            " [0.7561 0.2556 0.351  0.     0.0418]\n",
            " [0.7319 0.2165 0.3867 0.0418 0.    ]]\n"
          ],
          "name": "stdout"
        }
      ]
    },
    {
      "cell_type": "code",
      "metadata": {
        "colab": {
          "base_uri": "https://localhost:8080/"
        },
        "id": "rqicN2WfWcN_",
        "outputId": "614667a5-9d6b-4e2f-a976-4ae33cc9ae30"
      },
      "source": [
        "answer(52)"
      ],
      "execution_count": null,
      "outputs": [
        {
          "output_type": "stream",
          "text": [
            "Z = np.random.random((10,2))\n",
            "X,Y = np.atleast_2d(Z[:,0], Z[:,1])\n",
            "D = np.sqrt( (X-X.T)**2 + (Y-Y.T)**2)\n",
            "print(D)\n",
            "\n",
            "# Much faster with scipy\n",
            "import scipy\n",
            "# Thanks Gavin Heverly-Coulson (#issue 1)\n",
            "import scipy.spatial\n",
            "\n",
            "Z = np.random.random((10,2))\n",
            "D = scipy.spatial.distance.cdist(Z,Z)\n",
            "print(D)\n"
          ],
          "name": "stdout"
        }
      ]
    },
    {
      "cell_type": "markdown",
      "metadata": {
        "id": "q5h2BC35U_t3"
      },
      "source": [
        "#### 53. How to convert a float (32 bits) array into an integer (32 bits) in place?\n",
        "(In-place means that you should update the original string rather than creating a new one.)"
      ]
    },
    {
      "cell_type": "code",
      "metadata": {
        "id": "z_eIZZUeU_t3",
        "colab": {
          "base_uri": "https://localhost:8080/"
        },
        "outputId": "54b9f374-569a-4ce3-83ff-1c0e514c560d"
      },
      "source": [
        "import numpy as np\n",
        "x = np.arange(10, dtype=np.float32) \n",
        "print(x, x.dtype)\n",
        "y = x.view(np.int32)\n",
        "print(y, y.dtype)\n",
        "y[:] = x\n",
        "\n",
        "print(y, y.dtype)\n",
        "print(x, x.dtype)"
      ],
      "execution_count": null,
      "outputs": [
        {
          "output_type": "stream",
          "text": [
            "[0. 1. 2. 3. 4. 5. 6. 7. 8. 9.] float32\n",
            "[         0 1065353216 1073741824 1077936128 1082130432 1084227584\n",
            " 1086324736 1088421888 1090519040 1091567616] int32\n",
            "[0 1 2 3 4 5 6 7 8 9] int32\n",
            "[0.0e+00 1.4e-45 2.8e-45 4.2e-45 5.6e-45 7.0e-45 8.4e-45 9.8e-45 1.1e-44\n",
            " 1.3e-44] float32\n"
          ],
          "name": "stdout"
        }
      ]
    },
    {
      "cell_type": "code",
      "metadata": {
        "colab": {
          "base_uri": "https://localhost:8080/"
        },
        "id": "eX0rayy1mt_Y",
        "outputId": "4ca9420d-98b5-4f45-aeab-fd91273988b9"
      },
      "source": [
        "# 이렇게도 가능\n",
        "X = np.arange(10, dtype = np.float32)\n",
        "print(X)\n",
        "X = X.astype(np.int32, copy = False)\n",
        "print(X)"
      ],
      "execution_count": null,
      "outputs": [
        {
          "output_type": "stream",
          "text": [
            "[0. 1. 2. 3. 4. 5. 6. 7. 8. 9.]\n",
            "[0 1 2 3 4 5 6 7 8 9]\n"
          ],
          "name": "stdout"
        }
      ]
    },
    {
      "cell_type": "code",
      "metadata": {
        "colab": {
          "base_uri": "https://localhost:8080/"
        },
        "id": "1iLSNXbKe5Bi",
        "outputId": "608eabeb-b471-47bd-d28e-556675a737d0"
      },
      "source": [
        "answer(53)"
      ],
      "execution_count": null,
      "outputs": [
        {
          "output_type": "stream",
          "text": [
            "# Thanks Vikas (https://stackoverflow.com/a/10622758/5989906)\n",
            "# & unutbu (https://stackoverflow.com/a/4396247/5989906)\n",
            "Z = (np.random.rand(10)*100).astype(np.float32)\n",
            "Y = Z.view(np.int32)\n",
            "Y[:] = Z\n",
            "print(Y)\n"
          ],
          "name": "stdout"
        }
      ]
    },
    {
      "cell_type": "markdown",
      "metadata": {
        "id": "v1qHoeGgU_t3"
      },
      "source": [
        "#### 54. How to read the following file? (★★☆)\n",
        "```\n",
        "1, 2, 3, 4, 5\n",
        "6,  ,  , 7, 8\n",
        " ,  , 9,10,11\n",
        "```"
      ]
    },
    {
      "cell_type": "code",
      "metadata": {
        "id": "OBYu1bk6U_t3",
        "colab": {
          "base_uri": "https://localhost:8080/"
        },
        "outputId": "8e0d2ec1-8c5a-4e14-fc48-7ff7ec894ae4"
      },
      "source": [
        "from io import StringIO\n",
        "\n",
        "# Fake file\n",
        "s = StringIO('''1, 2, 3, 4, 5\n",
        "\n",
        "                6,  ,  , 7, 8\n",
        "\n",
        "                 ,  , 9,10,11\n",
        "''')\n",
        "\n",
        "Z = np.genfromtxt(s, delimiter=\",\", dtype=np.int)\n",
        "print(Z)"
      ],
      "execution_count": null,
      "outputs": [
        {
          "output_type": "stream",
          "text": [
            "[[ 1  2  3  4  5]\n",
            " [ 6 -1 -1  7  8]\n",
            " [-1 -1  9 10 11]]\n"
          ],
          "name": "stdout"
        }
      ]
    },
    {
      "cell_type": "code",
      "metadata": {
        "colab": {
          "base_uri": "https://localhost:8080/"
        },
        "id": "7k0_PN7GniZN",
        "outputId": "22cf52fb-a45a-4fdd-cd94-f1c8d263c2e6"
      },
      "source": [
        "answer(54)"
      ],
      "execution_count": null,
      "outputs": [
        {
          "output_type": "stream",
          "text": [
            "from io import StringIO\n",
            "\n",
            "# Fake file\n",
            "s = StringIO('''1, 2, 3, 4, 5\n",
            "\n",
            "                6,  ,  , 7, 8\n",
            "\n",
            "                 ,  , 9,10,11\n",
            "''')\n",
            "Z = np.genfromtxt(s, delimiter=\",\", dtype=np.int)\n",
            "print(Z)\n"
          ],
          "name": "stdout"
        }
      ]
    },
    {
      "cell_type": "code",
      "metadata": {
        "colab": {
          "base_uri": "https://localhost:8080/"
        },
        "id": "Wekmn7EknVzS",
        "outputId": "6349ac3e-0a2a-4ef7-b8b9-dc186f4b6d49"
      },
      "source": [
        "hint(54)"
      ],
      "execution_count": null,
      "outputs": [
        {
          "output_type": "stream",
          "text": [
            "hint: np.genfromtxt\n"
          ],
          "name": "stdout"
        }
      ]
    },
    {
      "cell_type": "markdown",
      "metadata": {
        "id": "gxZrH-IzU_t3"
      },
      "source": [
        "#### 55. What is the equivalent of enumerate for numpy arrays? (★★☆)"
      ]
    },
    {
      "cell_type": "code",
      "metadata": {
        "id": "3CL682bPU_t3",
        "colab": {
          "base_uri": "https://localhost:8080/"
        },
        "outputId": "ee7aeb2b-2840-4441-fab1-fed1cbc129f3"
      },
      "source": [
        "A = np.ones((3, 4))\n",
        "print(A)\n",
        "\n",
        "for index, value in np.ndenumerate(A): # 실제 enumerate와 거의 동일한 형식으로 작동하는 함수\n",
        "    print(index, value)\n",
        "\n",
        "print(\"\\n\")\n",
        "\n",
        "for index in np.ndindex(A.shape): # ndindex는 특정한 shape를 입력 받아서, 이를 이용해 N-dimensional iterator를 만들어주는 것.\n",
        "    print(index, A[index])"
      ],
      "execution_count": null,
      "outputs": [
        {
          "output_type": "stream",
          "text": [
            "[[1. 1. 1. 1.]\n",
            " [1. 1. 1. 1.]\n",
            " [1. 1. 1. 1.]]\n",
            "(0, 0) 1.0\n",
            "(0, 1) 1.0\n",
            "(0, 2) 1.0\n",
            "(0, 3) 1.0\n",
            "(1, 0) 1.0\n",
            "(1, 1) 1.0\n",
            "(1, 2) 1.0\n",
            "(1, 3) 1.0\n",
            "(2, 0) 1.0\n",
            "(2, 1) 1.0\n",
            "(2, 2) 1.0\n",
            "(2, 3) 1.0\n",
            "\n",
            "\n",
            "(0, 0) 1.0\n",
            "(0, 1) 1.0\n",
            "(0, 2) 1.0\n",
            "(0, 3) 1.0\n",
            "(1, 0) 1.0\n",
            "(1, 1) 1.0\n",
            "(1, 2) 1.0\n",
            "(1, 3) 1.0\n",
            "(2, 0) 1.0\n",
            "(2, 1) 1.0\n",
            "(2, 2) 1.0\n",
            "(2, 3) 1.0\n"
          ],
          "name": "stdout"
        }
      ]
    },
    {
      "cell_type": "code",
      "metadata": {
        "colab": {
          "base_uri": "https://localhost:8080/"
        },
        "id": "D8gEv1l4ojTj",
        "outputId": "88cd2b6f-3149-405f-b698-2b25a5ab0bc7"
      },
      "source": [
        "answer(55)"
      ],
      "execution_count": null,
      "outputs": [
        {
          "output_type": "stream",
          "text": [
            "Z = np.arange(9).reshape(3,3)\n",
            "for index, value in np.ndenumerate(Z):\n",
            "    print(index, value)\n",
            "for index in np.ndindex(Z.shape):\n",
            "    print(index, Z[index])\n"
          ],
          "name": "stdout"
        }
      ]
    },
    {
      "cell_type": "markdown",
      "metadata": {
        "id": "URzI3yLiU_t3"
      },
      "source": [
        "#### 56. Generate a generic 2D Gaussian-like array (★★☆)\n",
        "x, y 기준 (-1, 1)인 10x10 도트를 찍고, 각 좌표의 원점과의 거리를 계산한 다음 이를 Gaussian처럼 값을 계산."
      ]
    },
    {
      "cell_type": "code",
      "metadata": {
        "colab": {
          "base_uri": "https://localhost:8080/"
        },
        "id": "bwncnuqEKIm4",
        "outputId": "a6314169-6426-4520-9629-da692afdc42a"
      },
      "source": [
        "X, Y = np.meshgrid(np.linspace(-1,1,10), np.linspace(-1,1,10))\n",
        "D = np.sqrt(X*X + Y*Y)\n",
        "print(D.shape)\n",
        "print(X.shape)\n",
        "sigma, mu = 1.0, 0.0\n",
        "G = np.exp(-((D - mu)**2 / (2.0 * sigma ** 2)))\n",
        "print(G)"
      ],
      "execution_count": null,
      "outputs": [
        {
          "output_type": "stream",
          "text": [
            "(10, 10)\n",
            "(10, 10)\n",
            "[[0.36787944 0.44822088 0.51979489 0.57375342 0.60279818 0.60279818\n",
            "  0.57375342 0.51979489 0.44822088 0.36787944]\n",
            " [0.44822088 0.54610814 0.63331324 0.69905581 0.73444367 0.73444367\n",
            "  0.69905581 0.63331324 0.54610814 0.44822088]\n",
            " [0.51979489 0.63331324 0.73444367 0.81068432 0.85172308 0.85172308\n",
            "  0.81068432 0.73444367 0.63331324 0.51979489]\n",
            " [0.57375342 0.69905581 0.81068432 0.89483932 0.9401382  0.9401382\n",
            "  0.89483932 0.81068432 0.69905581 0.57375342]\n",
            " [0.60279818 0.73444367 0.85172308 0.9401382  0.98773022 0.98773022\n",
            "  0.9401382  0.85172308 0.73444367 0.60279818]\n",
            " [0.60279818 0.73444367 0.85172308 0.9401382  0.98773022 0.98773022\n",
            "  0.9401382  0.85172308 0.73444367 0.60279818]\n",
            " [0.57375342 0.69905581 0.81068432 0.89483932 0.9401382  0.9401382\n",
            "  0.89483932 0.81068432 0.69905581 0.57375342]\n",
            " [0.51979489 0.63331324 0.73444367 0.81068432 0.85172308 0.85172308\n",
            "  0.81068432 0.73444367 0.63331324 0.51979489]\n",
            " [0.44822088 0.54610814 0.63331324 0.69905581 0.73444367 0.73444367\n",
            "  0.69905581 0.63331324 0.54610814 0.44822088]\n",
            " [0.36787944 0.44822088 0.51979489 0.57375342 0.60279818 0.60279818\n",
            "  0.57375342 0.51979489 0.44822088 0.36787944]]\n"
          ],
          "name": "stdout"
        }
      ]
    },
    {
      "cell_type": "code",
      "metadata": {
        "id": "c_W9HV8SU_t3",
        "colab": {
          "base_uri": "https://localhost:8080/"
        },
        "outputId": "9eac1c83-f194-4fa2-d271-cf511e5d7d47"
      },
      "source": [
        "answer(56)"
      ],
      "execution_count": null,
      "outputs": [
        {
          "output_type": "stream",
          "text": [
            "X, Y = np.meshgrid(np.linspace(-1,1,10), np.linspace(-1,1,10))\n",
            "D = np.sqrt(X*X+Y*Y)\n",
            "sigma, mu = 1.0, 0.0\n",
            "G = np.exp(-( (D-mu)**2 / ( 2.0 * sigma**2 ) ) )\n",
            "print(G)\n"
          ],
          "name": "stdout"
        }
      ]
    },
    {
      "cell_type": "markdown",
      "metadata": {
        "id": "phkEqYTdU_t4"
      },
      "source": [
        "#### 57. How to randomly place p elements in a 2D array? (★★☆)\n",
        "임의로 p개의 element를 다른 값으로 바꾸는 방법"
      ]
    },
    {
      "cell_type": "code",
      "metadata": {
        "id": "W709yZk9U_t4",
        "colab": {
          "base_uri": "https://localhost:8080/"
        },
        "outputId": "065d05dd-4e3f-4251-d971-0aefc010fa01"
      },
      "source": [
        "A = np.random.random((5, 5))\n",
        "print(\"original: \", A)\n",
        "\n",
        "np.put(A, np.random.choice(range(A.size), 3, replace = False), 1) # replace는 복원 추출인지 아닌지를 결정\n",
        "print(\"After:\", A)"
      ],
      "execution_count": null,
      "outputs": [
        {
          "output_type": "stream",
          "text": [
            "original:  [[0.26442904 0.629319   0.42153862 0.1962841  0.38880068]\n",
            " [0.68799403 0.19027833 0.62373937 0.29600401 0.0318608 ]\n",
            " [0.63747466 0.70719748 0.80725175 0.93262577 0.36877577]\n",
            " [0.64134861 0.36743992 0.12258669 0.58231963 0.70835228]\n",
            " [0.71039439 0.01652439 0.79897617 0.03904677 0.71291035]]\n",
            "[24 21 23]\n",
            "After: [[0.26442904 1.         0.42153862 0.1962841  0.38880068]\n",
            " [0.68799403 0.19027833 0.62373937 0.29600401 0.0318608 ]\n",
            " [0.63747466 0.70719748 0.80725175 0.93262577 0.36877577]\n",
            " [1.         1.         0.12258669 0.58231963 0.70835228]\n",
            " [0.71039439 0.01652439 0.79897617 0.03904677 0.71291035]]\n"
          ],
          "name": "stdout"
        }
      ]
    },
    {
      "cell_type": "code",
      "metadata": {
        "colab": {
          "base_uri": "https://localhost:8080/"
        },
        "id": "3zItOkzPOK4t",
        "outputId": "eb2c639c-2c3a-4f43-e5c0-14841ba9edf8"
      },
      "source": [
        "answer(57)"
      ],
      "execution_count": null,
      "outputs": [
        {
          "output_type": "stream",
          "text": [
            "# Author: Divakar\n",
            "\n",
            "n = 10\n",
            "p = 3\n",
            "Z = np.zeros((n,n))\n",
            "np.put(Z, np.random.choice(range(n*n), p, replace=False),1)\n",
            "print(Z)\n"
          ],
          "name": "stdout"
        }
      ]
    },
    {
      "cell_type": "markdown",
      "metadata": {
        "id": "TNYawdqVU_t4"
      },
      "source": [
        "#### 58. Subtract the mean of each row of a matrix (★★☆)"
      ]
    },
    {
      "cell_type": "code",
      "metadata": {
        "id": "khK1HPjmU_t4",
        "colab": {
          "base_uri": "https://localhost:8080/"
        },
        "outputId": "40bc7f56-74ea-4301-80cb-4150df7bcfe7"
      },
      "source": [
        "A = np.arange(50).reshape(5, 10)\n",
        "print(A)\n",
        "\n",
        "print((A.T - A.mean(axis = 1)).T) # 내가 만든 답\n",
        "\n",
        "Y = A - A.mean(axis=1, keepdims = True) # 답지에 나온 답\n",
        "print(Y)"
      ],
      "execution_count": null,
      "outputs": [
        {
          "output_type": "stream",
          "text": [
            "[[ 0  1  2  3  4  5  6  7  8  9]\n",
            " [10 11 12 13 14 15 16 17 18 19]\n",
            " [20 21 22 23 24 25 26 27 28 29]\n",
            " [30 31 32 33 34 35 36 37 38 39]\n",
            " [40 41 42 43 44 45 46 47 48 49]]\n",
            "[[-4.5 -3.5 -2.5 -1.5 -0.5  0.5  1.5  2.5  3.5  4.5]\n",
            " [-4.5 -3.5 -2.5 -1.5 -0.5  0.5  1.5  2.5  3.5  4.5]\n",
            " [-4.5 -3.5 -2.5 -1.5 -0.5  0.5  1.5  2.5  3.5  4.5]\n",
            " [-4.5 -3.5 -2.5 -1.5 -0.5  0.5  1.5  2.5  3.5  4.5]\n",
            " [-4.5 -3.5 -2.5 -1.5 -0.5  0.5  1.5  2.5  3.5  4.5]]\n",
            "[[-4.5 -3.5 -2.5 -1.5 -0.5  0.5  1.5  2.5  3.5  4.5]\n",
            " [-4.5 -3.5 -2.5 -1.5 -0.5  0.5  1.5  2.5  3.5  4.5]\n",
            " [-4.5 -3.5 -2.5 -1.5 -0.5  0.5  1.5  2.5  3.5  4.5]\n",
            " [-4.5 -3.5 -2.5 -1.5 -0.5  0.5  1.5  2.5  3.5  4.5]\n",
            " [-4.5 -3.5 -2.5 -1.5 -0.5  0.5  1.5  2.5  3.5  4.5]]\n"
          ],
          "name": "stdout"
        }
      ]
    },
    {
      "cell_type": "markdown",
      "metadata": {
        "id": "Nt3xYF3tU_t4"
      },
      "source": [
        "#### 59. How to sort an array by the nth column? (★★☆)\n",
        "n번째 column 기준으로 array를 sort할 수 있는가?"
      ]
    },
    {
      "cell_type": "code",
      "metadata": {
        "id": "YaDkOE30U_t4",
        "colab": {
          "base_uri": "https://localhost:8080/"
        },
        "outputId": "49599650-85c2-48c5-e709-72b5c756e3c9"
      },
      "source": [
        "A = np.random.random((5, 3))\n",
        "print(A)\n",
        "\n",
        "print(A[:, 1].argsort())\n",
        "print(A[A[:, 1].argsort()]) # 두 번째 column 기준으로 sort"
      ],
      "execution_count": null,
      "outputs": [
        {
          "output_type": "stream",
          "text": [
            "[[0.93600502 0.00197711 0.47737051]\n",
            " [0.78220841 0.12779602 0.07684968]\n",
            " [0.23260538 0.97894505 0.45833067]\n",
            " [0.90173408 0.36441637 0.27536279]\n",
            " [0.21787443 0.15997079 0.86732299]]\n",
            "[0 1 4 3 2]\n",
            "[[0.93600502 0.00197711 0.47737051]\n",
            " [0.78220841 0.12779602 0.07684968]\n",
            " [0.21787443 0.15997079 0.86732299]\n",
            " [0.90173408 0.36441637 0.27536279]\n",
            " [0.23260538 0.97894505 0.45833067]]\n"
          ],
          "name": "stdout"
        }
      ]
    },
    {
      "cell_type": "code",
      "metadata": {
        "colab": {
          "base_uri": "https://localhost:8080/"
        },
        "id": "WDtZotmnTEOZ",
        "outputId": "eca92267-f81f-4915-ad1b-62289c7087a2"
      },
      "source": [
        "answer(59)"
      ],
      "execution_count": null,
      "outputs": [
        {
          "output_type": "stream",
          "text": [
            "# Author: Steve Tjoa\n",
            "\n",
            "Z = np.random.randint(0,10,(3,3))\n",
            "print(Z)\n",
            "print(Z[Z[:,1].argsort()])\n"
          ],
          "name": "stdout"
        }
      ]
    },
    {
      "cell_type": "markdown",
      "metadata": {
        "id": "vdhAimGaU_t5"
      },
      "source": [
        "#### 60. How to tell if a given 2D array has null columns? (★★☆)"
      ]
    },
    {
      "cell_type": "code",
      "metadata": {
        "id": "-LktwdM_U_t5",
        "colab": {
          "base_uri": "https://localhost:8080/"
        },
        "outputId": "ff6caf39-9e44-41c7-ee12-597429f8f41f"
      },
      "source": [
        "A = np.random.random((3, 4))\n",
        "print(A.any(axis = 0)) # any(axis = 0)을 이용하면 해당 column에 값이 있는지 없는지 판단해줌\n",
        "print((~A.any(axis = 0))) # ~ 는 반대로 값이 나오게 만들어줌"
      ],
      "execution_count": null,
      "outputs": [
        {
          "output_type": "stream",
          "text": [
            "[ True  True  True  True]\n",
            "[False False False False]\n"
          ],
          "name": "stdout"
        }
      ]
    },
    {
      "cell_type": "code",
      "metadata": {
        "colab": {
          "base_uri": "https://localhost:8080/"
        },
        "id": "513S2O5jWyfY",
        "outputId": "3713d7fd-2404-4d55-bc76-5e8258303752"
      },
      "source": [
        "answer(60)"
      ],
      "execution_count": null,
      "outputs": [
        {
          "output_type": "stream",
          "text": [
            "# Author: Warren Weckesser\n",
            "\n",
            "Z = np.random.randint(0,3,(3,10))\n",
            "print((~Z.any(axis=0)).any())\n"
          ],
          "name": "stdout"
        }
      ]
    }
  ]
}