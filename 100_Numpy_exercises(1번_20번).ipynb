{
  "nbformat": 4,
  "nbformat_minor": 0,
  "metadata": {
    "kernelspec": {
      "display_name": "Python 3",
      "language": "python",
      "name": "python3"
    },
    "language_info": {
      "codemirror_mode": {
        "name": "ipython",
        "version": 3
      },
      "file_extension": ".py",
      "mimetype": "text/x-python",
      "name": "python",
      "nbconvert_exporter": "python",
      "pygments_lexer": "ipython3",
      "version": "3.7.7"
    },
    "colab": {
      "name": "100_Numpy_exercises(1번-20번).ipynb",
      "provenance": [],
      "collapsed_sections": [
        "3CqFppy2U_t6",
        "b5Hk4qiBU_t6",
        "23xzNdHvU_t7",
        "45R2BPCkU_t7",
        "NmTYFMi9U_t7",
        "Y3wzpR0RU_t7",
        "tgzlFqehU_t8",
        "WEg5bDQiU_t8",
        "dBcGpuIKU_t8",
        "HSurvFlWU_t8",
        "w-NkEG2tU_t9",
        "e7TrXJSfU_t9",
        "jaSISWndU_t9",
        "VRGE1O7wU_t9",
        "W8KJktOjU_t-",
        "vACcpIuFU_t-",
        "5wXKUXC9U_t-",
        "gXAqFEzOU_t-",
        "HA3zd_QVU_t-",
        "CjgIDHgTU_t_",
        "mi6SjfIKU_t_",
        "3Sz_yWVCU_t_",
        "FJzuNGbQU_uA",
        "b-0M6ONrU_uA",
        "ECrRj8y3U_uA",
        "H24oJf-zU_uB",
        "fDd0An-1U_uB",
        "-3KLhITGU_uB",
        "K2lzVT2gU_uB",
        "vuie5cQ5U_uC",
        "tViquTp4U_uC",
        "IKBJaca8U_uC",
        "lp1EFSGwU_uD",
        "LQV2uaOKU_uD",
        "FJbrSf_PU_uD",
        "l2AKvcEzU_uD"
      ],
      "toc_visible": true
    }
  },
  "cells": [
    {
      "cell_type": "markdown",
      "metadata": {
        "id": "sbQI7FBSU_tk"
      },
      "source": [
        "# 100 numpy exercises\n",
        "\n",
        "This is a collection of exercises that have been collected in the numpy mailing list, on stack overflow\n",
        "and in the numpy documentation. The goal of this collection is to offer a quick reference for both old\n",
        "and new users but also to provide a set of exercises for those who teach.\n",
        "\n",
        "\n",
        "If you find an error or think you've a better way to solve some of them, feel\n",
        "free to open an issue at <https://github.com/rougier/numpy-100>."
      ]
    },
    {
      "cell_type": "code",
      "metadata": {
        "id": "YGtjHrkQWd2f"
      },
      "source": [
        "import os\n",
        "\n",
        "os.chdir('/content/drive/MyDrive/numpy-100')"
      ],
      "execution_count": null,
      "outputs": []
    },
    {
      "cell_type": "code",
      "metadata": {
        "colab": {
          "base_uri": "https://localhost:8080/"
        },
        "id": "RycfSIAYGtR1",
        "outputId": "d3f94746-db4c-4e89-a27b-0f0d92ceab12"
      },
      "source": [
        "!pip install mdutils"
      ],
      "execution_count": null,
      "outputs": [
        {
          "output_type": "stream",
          "text": [
            "Collecting mdutils\n",
            "  Downloading https://files.pythonhosted.org/packages/59/52/3d943b6d02a9938ad367366aef8b002c5c1bf258e451db5e8551b3d28801/mdutils-1.3.0.tar.gz\n",
            "Building wheels for collected packages: mdutils\n",
            "  Building wheel for mdutils (setup.py) ... \u001b[?25l\u001b[?25hdone\n",
            "  Created wheel for mdutils: filename=mdutils-1.3.0-cp37-none-any.whl size=19449 sha256=6452510f750a5938a84123770b8613271e0f8086047dd17f1571af1ddbd1850a\n",
            "  Stored in directory: /root/.cache/pip/wheels/af/fa/1c/7b13e92bdfc39eda5970b21a15f04f6a5158dea4e3f459854d\n",
            "Successfully built mdutils\n",
            "Installing collected packages: mdutils\n",
            "Successfully installed mdutils-1.3.0\n"
          ],
          "name": "stdout"
        }
      ]
    },
    {
      "cell_type": "markdown",
      "metadata": {
        "id": "OXXrTtpwU_to"
      },
      "source": [
        "File automatically generated. See the documentation to update questions/answers/hints programmatically."
      ]
    },
    {
      "cell_type": "markdown",
      "metadata": {
        "id": "l_kGpIRPU_to"
      },
      "source": [
        "Run the `initialize.py` module, then for each question you can query the\n",
        "answer or an hint with `hint(n)` or `answer(n)` for `n` question number."
      ]
    },
    {
      "cell_type": "code",
      "metadata": {
        "id": "FXECzEtZU_to"
      },
      "source": [
        "%run initialise.py"
      ],
      "execution_count": null,
      "outputs": []
    },
    {
      "cell_type": "markdown",
      "metadata": {
        "id": "WGHp3r1-U_tp"
      },
      "source": [
        "#### 1. Import the numpy package under the name `np` (★☆☆)"
      ]
    },
    {
      "cell_type": "code",
      "metadata": {
        "colab": {
          "base_uri": "https://localhost:8080/"
        },
        "id": "L9VcGAoFU_tp",
        "outputId": "ff210415-0770-45a4-aece-c2f234f6686e"
      },
      "source": [
        "import numpy as np"
      ],
      "execution_count": null,
      "outputs": [
        {
          "output_type": "stream",
          "text": [
            "import numpy as np\n"
          ],
          "name": "stdout"
        }
      ]
    },
    {
      "cell_type": "code",
      "metadata": {
        "colab": {
          "base_uri": "https://localhost:8080/"
        },
        "id": "aQIuUTVKXQCd",
        "outputId": "51d29517-d55f-48d2-f49b-f5c8fbe7d2c8"
      },
      "source": [
        "answer(1)"
      ],
      "execution_count": null,
      "outputs": [
        {
          "output_type": "stream",
          "text": [
            "import numpy as np\n"
          ],
          "name": "stdout"
        }
      ]
    },
    {
      "cell_type": "markdown",
      "metadata": {
        "id": "XVzsmqKvU_tp"
      },
      "source": [
        "#### 2. Print the numpy version and the configuration (★☆☆)"
      ]
    },
    {
      "cell_type": "code",
      "metadata": {
        "colab": {
          "base_uri": "https://localhost:8080/"
        },
        "id": "KHRJ1c7FU_tp",
        "outputId": "55002173-fd18-4a5b-9796-99b76fda95fe"
      },
      "source": [
        "print(np.__version__)\n",
        "np.show_config() # 몰랐던 내용. 체크하자"
      ],
      "execution_count": null,
      "outputs": [
        {
          "output_type": "stream",
          "text": [
            "1.19.5\n",
            "blas_mkl_info:\n",
            "  NOT AVAILABLE\n",
            "blis_info:\n",
            "  NOT AVAILABLE\n",
            "openblas_info:\n",
            "    libraries = ['openblas', 'openblas']\n",
            "    library_dirs = ['/usr/local/lib']\n",
            "    language = c\n",
            "    define_macros = [('HAVE_CBLAS', None)]\n",
            "blas_opt_info:\n",
            "    libraries = ['openblas', 'openblas']\n",
            "    library_dirs = ['/usr/local/lib']\n",
            "    language = c\n",
            "    define_macros = [('HAVE_CBLAS', None)]\n",
            "lapack_mkl_info:\n",
            "  NOT AVAILABLE\n",
            "openblas_lapack_info:\n",
            "    libraries = ['openblas', 'openblas']\n",
            "    library_dirs = ['/usr/local/lib']\n",
            "    language = c\n",
            "    define_macros = [('HAVE_CBLAS', None)]\n",
            "lapack_opt_info:\n",
            "    libraries = ['openblas', 'openblas']\n",
            "    library_dirs = ['/usr/local/lib']\n",
            "    language = c\n",
            "    define_macros = [('HAVE_CBLAS', None)]\n"
          ],
          "name": "stdout"
        }
      ]
    },
    {
      "cell_type": "code",
      "metadata": {
        "colab": {
          "base_uri": "https://localhost:8080/"
        },
        "id": "hdFKEGs8XWIw",
        "outputId": "54ddae25-98e2-4ebe-d7f8-f276a233db47"
      },
      "source": [
        "answer(2)"
      ],
      "execution_count": null,
      "outputs": [
        {
          "output_type": "stream",
          "text": [
            "print(np.__version__)\n",
            "np.show_config()\n"
          ],
          "name": "stdout"
        }
      ]
    },
    {
      "cell_type": "markdown",
      "metadata": {
        "id": "69xgSkIzU_tq"
      },
      "source": [
        "#### 3. Create a null vector of size 10 (★☆☆)"
      ]
    },
    {
      "cell_type": "code",
      "metadata": {
        "colab": {
          "base_uri": "https://localhost:8080/"
        },
        "id": "FLkbpIzWU_tq",
        "outputId": "3d217649-3fcd-43ae-cb40-47f85d26df79"
      },
      "source": [
        "null_vec = np.zeros(10)\n",
        "print(null_vec)"
      ],
      "execution_count": null,
      "outputs": [
        {
          "output_type": "stream",
          "text": [
            "[0. 0. 0. 0. 0. 0. 0. 0. 0. 0.]\n"
          ],
          "name": "stdout"
        }
      ]
    },
    {
      "cell_type": "code",
      "metadata": {
        "colab": {
          "base_uri": "https://localhost:8080/"
        },
        "id": "-ty4PkNfXvfR",
        "outputId": "1342f712-b770-406f-df58-beae06d422df"
      },
      "source": [
        "answer(3)"
      ],
      "execution_count": null,
      "outputs": [
        {
          "output_type": "stream",
          "text": [
            "Z = np.zeros(10)\n",
            "print(Z)\n"
          ],
          "name": "stdout"
        }
      ]
    },
    {
      "cell_type": "markdown",
      "metadata": {
        "id": "2ZbW8Nz_U_tq"
      },
      "source": [
        "#### 4. How to find the memory size of any array (★☆☆)"
      ]
    },
    {
      "cell_type": "code",
      "metadata": {
        "colab": {
          "base_uri": "https://localhost:8080/"
        },
        "id": "tGzP6UvEU_tq",
        "outputId": "8d86b168-fc45-47c7-cd10-7fbff0b915dc"
      },
      "source": [
        "size_q = np.zeros((10, 10))\n",
        "print(\"array size: \", size_q.size)\n",
        "print(\"one element memory size: \", size_q.itemsize)\n",
        "print(\"array memory size: \", size_q.size * size_q.itemsize) # 이런게 있는줄도 몰랐다...."
      ],
      "execution_count": null,
      "outputs": [
        {
          "output_type": "stream",
          "text": [
            "array size:  100\n",
            "one element memory size:  8\n",
            "array memory size:  800\n"
          ],
          "name": "stdout"
        }
      ]
    },
    {
      "cell_type": "code",
      "metadata": {
        "colab": {
          "base_uri": "https://localhost:8080/"
        },
        "id": "A9dHBEu9ZCum",
        "outputId": "05d85b83-f422-4b90-effb-82f25b05e8d8"
      },
      "source": [
        "answer(4)"
      ],
      "execution_count": null,
      "outputs": [
        {
          "output_type": "stream",
          "text": [
            "Z = np.zeros((10,10))\n",
            "print(\"%d bytes\" % (Z.size * Z.itemsize))\n"
          ],
          "name": "stdout"
        }
      ]
    },
    {
      "cell_type": "markdown",
      "metadata": {
        "id": "B8439MsYU_tq"
      },
      "source": [
        "#### 5. How to get the documentation of the numpy add function from the command line? (★☆☆)"
      ]
    },
    {
      "cell_type": "code",
      "metadata": {
        "colab": {
          "base_uri": "https://localhost:8080/"
        },
        "id": "8E84a3BeU_tq",
        "outputId": "971009f3-0324-4bc5-a835-f1f1eaba118f"
      },
      "source": [
        "answer(5) # 아예 처음 보는 기능이다..."
      ],
      "execution_count": null,
      "outputs": [
        {
          "output_type": "stream",
          "text": [
            "%run `python -c \"import numpy; numpy.info(numpy.add)\"`\n"
          ],
          "name": "stdout"
        }
      ]
    },
    {
      "cell_type": "markdown",
      "metadata": {
        "id": "LEFaKOhnU_tr"
      },
      "source": [
        "#### 6. Create a null vector of size 10 but the fifth value which is 1 (★☆☆)"
      ]
    },
    {
      "cell_type": "code",
      "metadata": {
        "colab": {
          "base_uri": "https://localhost:8080/"
        },
        "id": "IYER-jAKU_tr",
        "outputId": "54576cb2-3ed1-4829-d30f-d99ea7ef3d78"
      },
      "source": [
        "vect = np.zeros(10)\n",
        "vect[4] = 1\n",
        "print(vect)"
      ],
      "execution_count": null,
      "outputs": [
        {
          "output_type": "stream",
          "text": [
            "[0. 0. 0. 0. 1. 0. 0. 0. 0. 0.]\n"
          ],
          "name": "stdout"
        }
      ]
    },
    {
      "cell_type": "code",
      "metadata": {
        "colab": {
          "base_uri": "https://localhost:8080/"
        },
        "id": "d7r38w0hq3i7",
        "outputId": "24280b4f-698e-460f-c76a-35405e0725e6"
      },
      "source": [
        "answer(6)"
      ],
      "execution_count": null,
      "outputs": [
        {
          "output_type": "stream",
          "text": [
            "Z = np.zeros(10)\n",
            "Z[4] = 1\n",
            "print(Z)\n"
          ],
          "name": "stdout"
        }
      ]
    },
    {
      "cell_type": "markdown",
      "metadata": {
        "id": "UtYskczgU_tr"
      },
      "source": [
        "#### 7. Create a vector with values ranging from 10 to 49 (★☆☆)"
      ]
    },
    {
      "cell_type": "code",
      "metadata": {
        "colab": {
          "base_uri": "https://localhost:8080/"
        },
        "id": "wzudkaWvU_tr",
        "outputId": "02d0d18e-39eb-4c91-cdd6-b261efeaddb4"
      },
      "source": [
        "vect = np.arange(10, 50)\n",
        "print(vect)"
      ],
      "execution_count": null,
      "outputs": [
        {
          "output_type": "stream",
          "text": [
            "[10 11 12 13 14 15 16 17 18 19 20 21 22 23 24 25 26 27 28 29 30 31 32 33\n",
            " 34 35 36 37 38 39 40 41 42 43 44 45 46 47 48 49]\n"
          ],
          "name": "stdout"
        }
      ]
    },
    {
      "cell_type": "code",
      "metadata": {
        "colab": {
          "base_uri": "https://localhost:8080/"
        },
        "id": "nwto7_1FrT2O",
        "outputId": "aca69b4a-42a3-46aa-ae68-4ea5e4c3f66e"
      },
      "source": [
        "answer(7)"
      ],
      "execution_count": null,
      "outputs": [
        {
          "output_type": "stream",
          "text": [
            "Z = np.arange(10,50)\n",
            "print(Z)\n"
          ],
          "name": "stdout"
        }
      ]
    },
    {
      "cell_type": "markdown",
      "metadata": {
        "id": "kUiDmA71U_tr"
      },
      "source": [
        "#### 8. Reverse a vector (first element becomes last) (★☆☆)"
      ]
    },
    {
      "cell_type": "code",
      "metadata": {
        "colab": {
          "base_uri": "https://localhost:8080/"
        },
        "id": "g8O9U07jU_tr",
        "outputId": "36351486-7bc4-4ff4-fe23-decf847e3330"
      },
      "source": [
        "vect = np.arange(10, 30)\n",
        "print(vect)\n",
        "\n",
        "vect = np.flip(vect) \n",
        "print(vect)"
      ],
      "execution_count": null,
      "outputs": [
        {
          "output_type": "stream",
          "text": [
            "[10 11 12 13 14 15 16 17 18 19 20 21 22 23 24 25 26 27 28 29]\n",
            "[29 28 27 26 25 24 23 22 21 20 19 18 17 16 15 14 13 12 11 10]\n"
          ],
          "name": "stdout"
        }
      ]
    },
    {
      "cell_type": "code",
      "metadata": {
        "colab": {
          "base_uri": "https://localhost:8080/"
        },
        "id": "U55KTQ1ltPXp",
        "outputId": "9e2b2e74-18cd-484e-8644-62df14c104b8"
      },
      "source": [
        "answer(8)"
      ],
      "execution_count": null,
      "outputs": [
        {
          "output_type": "stream",
          "text": [
            "Z = np.arange(50)\n",
            "Z = Z[::-1]\n",
            "print(Z)\n"
          ],
          "name": "stdout"
        }
      ]
    },
    {
      "cell_type": "markdown",
      "metadata": {
        "id": "4iyd45hHU_ts"
      },
      "source": [
        "#### 9. Create a 3x3 matrix with values ranging from 0 to 8 (★☆☆)"
      ]
    },
    {
      "cell_type": "code",
      "metadata": {
        "colab": {
          "base_uri": "https://localhost:8080/"
        },
        "id": "SCPdk2tHU_ts",
        "outputId": "8bfe3905-91a9-46cf-f31d-3affe8f733d2"
      },
      "source": [
        "vec = np.arange(0, 9).reshape(3, 3)\n",
        "print(vec)"
      ],
      "execution_count": null,
      "outputs": [
        {
          "output_type": "stream",
          "text": [
            "[[0 1 2]\n",
            " [3 4 5]\n",
            " [6 7 8]]\n"
          ],
          "name": "stdout"
        }
      ]
    },
    {
      "cell_type": "code",
      "metadata": {
        "colab": {
          "base_uri": "https://localhost:8080/"
        },
        "id": "v26qTATDt6C2",
        "outputId": "12391d04-19ab-49f0-de10-b5e4cf95e207"
      },
      "source": [
        "answer(9)"
      ],
      "execution_count": null,
      "outputs": [
        {
          "output_type": "stream",
          "text": [
            "Z = np.arange(9).reshape(3, 3)\n",
            "print(Z)\n"
          ],
          "name": "stdout"
        }
      ]
    },
    {
      "cell_type": "markdown",
      "metadata": {
        "id": "T-ZVoe9DU_ts"
      },
      "source": [
        "#### 10. Find indices of non-zero elements from [1,2,0,0,4,0] (★☆☆)"
      ]
    },
    {
      "cell_type": "code",
      "metadata": {
        "colab": {
          "base_uri": "https://localhost:8080/"
        },
        "id": "2ZTp89xwU_ts",
        "outputId": "2d75bf20-64e7-4b03-b0e2-bf51382c239c"
      },
      "source": [
        "nz = np.nonzero([1, 2, 0, 0, 4, 0])\n",
        "print(nz)\n",
        "\n",
        "# Another solution\n",
        "result = np.where(np.array([1, 2, 0, 0, 4, 0]) != 0)\n",
        "print(result)"
      ],
      "execution_count": null,
      "outputs": [
        {
          "output_type": "stream",
          "text": [
            "(array([0, 1, 4]),)\n",
            "(array([0, 1, 4]),)\n"
          ],
          "name": "stdout"
        }
      ]
    },
    {
      "cell_type": "code",
      "metadata": {
        "colab": {
          "base_uri": "https://localhost:8080/"
        },
        "id": "FjA4cAIxvcKV",
        "outputId": "846d9ba2-e5ca-427a-c813-3cf1fcb7e28c"
      },
      "source": [
        "answer(10)"
      ],
      "execution_count": null,
      "outputs": [
        {
          "output_type": "stream",
          "text": [
            "nz = np.nonzero([1,2,0,0,4,0])\n",
            "print(nz)\n"
          ],
          "name": "stdout"
        }
      ]
    },
    {
      "cell_type": "markdown",
      "metadata": {
        "id": "r7fTB60EU_ts"
      },
      "source": [
        "#### 11. Create a 3x3 identity matrix (★☆☆)"
      ]
    },
    {
      "cell_type": "code",
      "metadata": {
        "colab": {
          "base_uri": "https://localhost:8080/"
        },
        "id": "erZR98CKU_ts",
        "outputId": "1b030d97-2728-44af-e273-3ab0ce0ddd3f"
      },
      "source": [
        "sol = np.eye(3)\n",
        "print(sol)"
      ],
      "execution_count": null,
      "outputs": [
        {
          "output_type": "stream",
          "text": [
            "[[1. 0. 0.]\n",
            " [0. 1. 0.]\n",
            " [0. 0. 1.]]\n"
          ],
          "name": "stdout"
        }
      ]
    },
    {
      "cell_type": "code",
      "metadata": {
        "colab": {
          "base_uri": "https://localhost:8080/"
        },
        "id": "LBPX9ufZwPut",
        "outputId": "f4ea822b-8303-4204-e366-55247a6dd992"
      },
      "source": [
        "answer(11)"
      ],
      "execution_count": null,
      "outputs": [
        {
          "output_type": "stream",
          "text": [
            "Z = np.eye(3)\n",
            "print(Z)\n"
          ],
          "name": "stdout"
        }
      ]
    },
    {
      "cell_type": "markdown",
      "metadata": {
        "id": "9_l4bqkGU_ts"
      },
      "source": [
        "#### 12. Create a 3x3x3 array with random values (★☆☆)"
      ]
    },
    {
      "cell_type": "code",
      "metadata": {
        "colab": {
          "base_uri": "https://localhost:8080/"
        },
        "id": "JaRqlxUrU_tt",
        "outputId": "482d6aa4-25b0-48c5-b242-bdea1b5390d6"
      },
      "source": [
        "sol = np.random.random((3, 3, 3))\n",
        "print(sol)"
      ],
      "execution_count": null,
      "outputs": [
        {
          "output_type": "stream",
          "text": [
            "[[[0.09313988 0.63027683 0.70270008]\n",
            "  [0.97973482 0.02596657 0.67896653]\n",
            "  [0.85371263 0.38309047 0.51869293]]\n",
            "\n",
            " [[0.49819356 0.36066103 0.62776755]\n",
            "  [0.7914679  0.04906851 0.761794  ]\n",
            "  [0.92064355 0.94405855 0.41745092]]\n",
            "\n",
            " [[0.37028903 0.78001196 0.75741601]\n",
            "  [0.83724789 0.12986062 0.95538317]\n",
            "  [0.06144275 0.94921173 0.68536867]]]\n"
          ],
          "name": "stdout"
        }
      ]
    },
    {
      "cell_type": "code",
      "metadata": {
        "colab": {
          "base_uri": "https://localhost:8080/"
        },
        "id": "io6Xs0RZwi4w",
        "outputId": "d0a4b1ad-adc6-47eb-edba-1f9459187cae"
      },
      "source": [
        "answer(12)"
      ],
      "execution_count": null,
      "outputs": [
        {
          "output_type": "stream",
          "text": [
            "Z = np.random.random((3,3,3))\n",
            "print(Z)\n"
          ],
          "name": "stdout"
        }
      ]
    },
    {
      "cell_type": "markdown",
      "metadata": {
        "id": "OqRO6AngU_tt"
      },
      "source": [
        "#### 13. Create a 10x10 array with random values and find the minimum and maximum values (★☆☆)"
      ]
    },
    {
      "cell_type": "code",
      "metadata": {
        "colab": {
          "base_uri": "https://localhost:8080/"
        },
        "id": "RcfeNDzIU_tt",
        "outputId": "5945c20c-0d1a-460d-8fdf-06c9a6428d9c"
      },
      "source": [
        "sol = np.random.random((10, 10))\n",
        "\n",
        "print(\"minimum value: \", np.min(sol))\n",
        "print(\"maximum value: \", np.max(sol))\n",
        "\n",
        "# same result\n",
        "\n",
        "print(\"minimum value: \", sol.min())\n",
        "print(\"maximum value: \", sol.max())"
      ],
      "execution_count": null,
      "outputs": [
        {
          "output_type": "stream",
          "text": [
            "minimum value:  0.01788972950762202\n",
            "maximum value:  0.9772964318128395\n",
            "minimum value:  0.01788972950762202\n",
            "maximum value:  0.9772964318128395\n"
          ],
          "name": "stdout"
        }
      ]
    },
    {
      "cell_type": "code",
      "metadata": {
        "colab": {
          "base_uri": "https://localhost:8080/"
        },
        "id": "0w4brbjjw6jH",
        "outputId": "f91891d2-4f4e-4f3b-9bd1-77305a53a302"
      },
      "source": [
        "answer(13)"
      ],
      "execution_count": null,
      "outputs": [
        {
          "output_type": "stream",
          "text": [
            "Z = np.random.random((10,10))\n",
            "Zmin, Zmax = Z.min(), Z.max()\n",
            "print(Zmin, Zmax)\n"
          ],
          "name": "stdout"
        }
      ]
    },
    {
      "cell_type": "markdown",
      "metadata": {
        "id": "bJYXG-niU_tt"
      },
      "source": [
        "#### 14. Create a random vector of size 30 and find the mean value (★☆☆)"
      ]
    },
    {
      "cell_type": "code",
      "metadata": {
        "colab": {
          "base_uri": "https://localhost:8080/"
        },
        "id": "SO6IUxdQU_tt",
        "outputId": "371d93d9-2b26-426e-fcae-9880b91989fd"
      },
      "source": [
        "sol = np.random.random(30)\n",
        "# same results\n",
        "print(np.mean(sol))\n",
        "print(sol.mean())"
      ],
      "execution_count": null,
      "outputs": [
        {
          "output_type": "stream",
          "text": [
            "0.5462539290880896\n",
            "0.5462539290880896\n"
          ],
          "name": "stdout"
        }
      ]
    },
    {
      "cell_type": "code",
      "metadata": {
        "colab": {
          "base_uri": "https://localhost:8080/"
        },
        "id": "FpVepHPgxT6A",
        "outputId": "08da74b1-fd8b-4760-9069-863fa7f88636"
      },
      "source": [
        "answer(14)"
      ],
      "execution_count": null,
      "outputs": [
        {
          "output_type": "stream",
          "text": [
            "Z = np.random.random(30)\n",
            "m = Z.mean()\n",
            "print(m)\n"
          ],
          "name": "stdout"
        }
      ]
    },
    {
      "cell_type": "markdown",
      "metadata": {
        "id": "Yix0hOwOU_tt"
      },
      "source": [
        "#### 15. Create a 2d array with 1 on the border and 0 inside (★☆☆)"
      ]
    },
    {
      "cell_type": "code",
      "metadata": {
        "colab": {
          "base_uri": "https://localhost:8080/"
        },
        "id": "pMBPwJSKU_tt",
        "outputId": "d2b8c07a-2d9c-4648-b961-de42d3fb9694"
      },
      "source": [
        "sol = np.ones((5, 10))\n",
        "\n",
        "sol[1:-1, 1:-1] = 0 # for문으로 열심히 짰는데, 생각보다 답안은 엄청 간단하다...\n",
        "print(sol)"
      ],
      "execution_count": null,
      "outputs": [
        {
          "output_type": "stream",
          "text": [
            "[[1. 1. 1. 1. 1. 1. 1. 1. 1. 1.]\n",
            " [1. 0. 0. 0. 0. 0. 0. 0. 0. 1.]\n",
            " [1. 0. 0. 0. 0. 0. 0. 0. 0. 1.]\n",
            " [1. 0. 0. 0. 0. 0. 0. 0. 0. 1.]\n",
            " [1. 1. 1. 1. 1. 1. 1. 1. 1. 1.]]\n"
          ],
          "name": "stdout"
        }
      ]
    },
    {
      "cell_type": "code",
      "metadata": {
        "colab": {
          "base_uri": "https://localhost:8080/"
        },
        "id": "BXde0rBhzJ4b",
        "outputId": "b0a317a9-2ad6-4468-afbd-08816c69b690"
      },
      "source": [
        "answer(15)"
      ],
      "execution_count": null,
      "outputs": [
        {
          "output_type": "stream",
          "text": [
            "Z = np.ones((10,10))\n",
            "Z[1:-1,1:-1] = 0\n",
            "print(Z)\n"
          ],
          "name": "stdout"
        }
      ]
    },
    {
      "cell_type": "markdown",
      "metadata": {
        "id": "uY8tVTr9U_tt"
      },
      "source": [
        "#### 16. How to add a border (filled with 0's) around an existing array? (★☆☆)"
      ]
    },
    {
      "cell_type": "code",
      "metadata": {
        "colab": {
          "base_uri": "https://localhost:8080/"
        },
        "id": "hCEZLURwU_tu",
        "outputId": "538c30c1-88ed-481b-e11b-dd855d64771f"
      },
      "source": [
        "# 새로운 답안 발견! \n",
        "# 가로, 세로 +2 짜리로 만든 뒤, 안쪽으로 기존 array를 넣는 식으로도 풀 수 있다.\n",
        "\n",
        "sol = np.ones((4, 5))\n",
        "print(\"original array: \",\"\\n\", sol, \"\\n\")\n",
        "\n",
        "zero_ = np.zeros((sol.shape[0]+2, sol.shape[1]+2))\n",
        "print(zero_, \"\\n\")\n",
        "\n",
        "zero_[1:-1, 1:-1] = sol[:, :]\n",
        "\n",
        "print(zero_)\n"
      ],
      "execution_count": null,
      "outputs": [
        {
          "output_type": "stream",
          "text": [
            "original array:  \n",
            " [[1. 1. 1. 1. 1.]\n",
            " [1. 1. 1. 1. 1.]\n",
            " [1. 1. 1. 1. 1.]\n",
            " [1. 1. 1. 1. 1.]] \n",
            "\n",
            "[[0. 0. 0. 0. 0. 0. 0.]\n",
            " [0. 0. 0. 0. 0. 0. 0.]\n",
            " [0. 0. 0. 0. 0. 0. 0.]\n",
            " [0. 0. 0. 0. 0. 0. 0.]\n",
            " [0. 0. 0. 0. 0. 0. 0.]\n",
            " [0. 0. 0. 0. 0. 0. 0.]] \n",
            "\n",
            "[[0. 0. 0. 0. 0. 0. 0.]\n",
            " [0. 1. 1. 1. 1. 1. 0.]\n",
            " [0. 1. 1. 1. 1. 1. 0.]\n",
            " [0. 1. 1. 1. 1. 1. 0.]\n",
            " [0. 1. 1. 1. 1. 1. 0.]\n",
            " [0. 0. 0. 0. 0. 0. 0.]]\n"
          ],
          "name": "stdout"
        }
      ]
    },
    {
      "cell_type": "code",
      "metadata": {
        "colab": {
          "base_uri": "https://localhost:8080/"
        },
        "id": "QejcYTg3142X",
        "outputId": "05cf73df-a5bf-4483-f328-7d12b2376741"
      },
      "source": [
        "answer(16)"
      ],
      "execution_count": null,
      "outputs": [
        {
          "output_type": "stream",
          "text": [
            "Z = np.ones((5,5))\n",
            "Z = np.pad(Z, pad_width=1, mode='constant', constant_values=0)\n",
            "print(Z)\n",
            "\n",
            "# Using fancy indexing\n",
            "Z[:, [0, -1]] = 0\n",
            "Z[[0, -1], :] = 0\n",
            "print(Z)\n"
          ],
          "name": "stdout"
        }
      ]
    },
    {
      "cell_type": "markdown",
      "metadata": {
        "id": "Z5865jEVU_tu"
      },
      "source": [
        "#### 17. What is the result of the following expression? (★☆☆)\n",
        "```python\n",
        "0 * np.nan\n",
        "np.nan == np.nan\n",
        "np.inf > np.nan\n",
        "np.nan - np.nan\n",
        "np.nan in set([np.nan])\n",
        "0.3 == 3 * 0.1\n",
        "```"
      ]
    },
    {
      "cell_type": "code",
      "metadata": {
        "id": "IZcVDRP-U_tu",
        "colab": {
          "base_uri": "https://localhost:8080/"
        },
        "outputId": "87c2cd9c-6aec-4031-a3ac-6461e7c6d2ef"
      },
      "source": [
        "print(0 * np.nan)\n",
        "print(np.nan == np.nan) # np.nan은 값이 없는 것이기 때문에 직접 값으로 비교하는 것이 불가능.\n",
        "print(np.nan is np.nan) # True, np.isnan을 사용하는 것이 더 정확\n",
        "print(np.inf > np.nan)\n",
        "print(np.nan - np.nan)\n",
        "print(np.nan in set([np.nan]))\n",
        "print(0.3 == 3 * 0.1)"
      ],
      "execution_count": null,
      "outputs": [
        {
          "output_type": "stream",
          "text": [
            "nan\n",
            "False\n",
            "True\n",
            "False\n",
            "nan\n",
            "True\n",
            "False\n"
          ],
          "name": "stdout"
        }
      ]
    },
    {
      "cell_type": "code",
      "metadata": {
        "colab": {
          "base_uri": "https://localhost:8080/"
        },
        "id": "bqz3Y8F0Om4y",
        "outputId": "319c0e7a-38d6-40d1-a40a-5c9bf04e56c1"
      },
      "source": [
        "answer(17)"
      ],
      "execution_count": null,
      "outputs": [
        {
          "output_type": "stream",
          "text": [
            "print(0 * np.nan)\n",
            "print(np.nan == np.nan)\n",
            "print(np.inf > np.nan)\n",
            "print(np.nan - np.nan)\n",
            "print(np.nan in set([np.nan]))\n",
            "print(0.3 == 3 * 0.1)\n"
          ],
          "name": "stdout"
        }
      ]
    },
    {
      "cell_type": "markdown",
      "metadata": {
        "id": "KmubbUCZU_tu"
      },
      "source": [
        "#### 18. Create a 5x5 matrix with values 1,2,3,4 just below the diagonal (★☆☆)"
      ]
    },
    {
      "cell_type": "code",
      "metadata": {
        "id": "fV0kdjfqU_tu",
        "colab": {
          "base_uri": "https://localhost:8080/"
        },
        "outputId": "f3304d47-a98b-4206-9be9-83ea01a9242e"
      },
      "source": [
        "print(np.arange(1, 5), \"\\n\") # => [1, 2, 3, 4] 짜리 array를 먼저 생성\n",
        "\n",
        "Z = np.diag(np.arange(1, 5)) # => [1, 2, 3, 4]로 구성된 대각행렬 생성\n",
        "print(Z, \"\\n\")\n",
        "\n",
        "Z = np.diag(np.arange(1, 5), k = -1) # k 는 대각선에서의 위치를 지정. 양수면 위로, 음수면 아래로\n",
        "print(Z, \"\\n\")\n",
        "\n",
        "Z = np.diag(np.arange(1, 5), k = 1)\n",
        "print(Z)"
      ],
      "execution_count": null,
      "outputs": [
        {
          "output_type": "stream",
          "text": [
            "[1 2 3 4] \n",
            "\n",
            "[[1 0 0 0]\n",
            " [0 2 0 0]\n",
            " [0 0 3 0]\n",
            " [0 0 0 4]] \n",
            "\n",
            "[[0 0 0 0 0]\n",
            " [1 0 0 0 0]\n",
            " [0 2 0 0 0]\n",
            " [0 0 3 0 0]\n",
            " [0 0 0 4 0]] \n",
            "\n",
            "[[0 1 0 0 0]\n",
            " [0 0 2 0 0]\n",
            " [0 0 0 3 0]\n",
            " [0 0 0 0 4]\n",
            " [0 0 0 0 0]]\n"
          ],
          "name": "stdout"
        }
      ]
    },
    {
      "cell_type": "code",
      "metadata": {
        "colab": {
          "base_uri": "https://localhost:8080/"
        },
        "id": "YD5_4NpPQYdv",
        "outputId": "8d1dd14c-3c73-4758-a2b1-804cd85cc814"
      },
      "source": [
        "answer(18)"
      ],
      "execution_count": null,
      "outputs": [
        {
          "output_type": "stream",
          "text": [
            "Z = np.diag(1+np.arange(4),k=-1)\n",
            "print(Z)\n"
          ],
          "name": "stdout"
        }
      ]
    },
    {
      "cell_type": "markdown",
      "metadata": {
        "id": "cNuNL7tmU_tu"
      },
      "source": [
        "#### 19. Create a 8x8 matrix and fill it with a checkerboard pattern (★☆☆)"
      ]
    },
    {
      "cell_type": "code",
      "metadata": {
        "id": "TXT8RojkU_tu",
        "colab": {
          "base_uri": "https://localhost:8080/"
        },
        "outputId": "b05916d9-abd4-4198-a250-a0b26fb283e0"
      },
      "source": [
        "Z = np.zeros((8, 8))\n",
        "print(Z, \"\\n\")\n",
        "\n",
        "# numpy에서는 [start:end:step]으로 구성됨을 기억하자.\n",
        "Z[1::2, ::2] = 1 # 짝수 번째 row는 첫 번째 column부터 2개씩 띄우면서 1로 채움\n",
        "Z[::2, 1::2] = 1 # 홀수 번째 row는 두 번째 column부터 2개씩 띄우면서 1로 채움\n",
        "print(Z)"
      ],
      "execution_count": null,
      "outputs": [
        {
          "output_type": "stream",
          "text": [
            "[[0. 0. 0. 0. 0. 0. 0. 0.]\n",
            " [0. 0. 0. 0. 0. 0. 0. 0.]\n",
            " [0. 0. 0. 0. 0. 0. 0. 0.]\n",
            " [0. 0. 0. 0. 0. 0. 0. 0.]\n",
            " [0. 0. 0. 0. 0. 0. 0. 0.]\n",
            " [0. 0. 0. 0. 0. 0. 0. 0.]\n",
            " [0. 0. 0. 0. 0. 0. 0. 0.]\n",
            " [0. 0. 0. 0. 0. 0. 0. 0.]] \n",
            "\n",
            "[[0. 1. 0. 1. 0. 1. 0. 1.]\n",
            " [1. 0. 1. 0. 1. 0. 1. 0.]\n",
            " [0. 1. 0. 1. 0. 1. 0. 1.]\n",
            " [1. 0. 1. 0. 1. 0. 1. 0.]\n",
            " [0. 1. 0. 1. 0. 1. 0. 1.]\n",
            " [1. 0. 1. 0. 1. 0. 1. 0.]\n",
            " [0. 1. 0. 1. 0. 1. 0. 1.]\n",
            " [1. 0. 1. 0. 1. 0. 1. 0.]]\n"
          ],
          "name": "stdout"
        }
      ]
    },
    {
      "cell_type": "code",
      "metadata": {
        "colab": {
          "base_uri": "https://localhost:8080/"
        },
        "id": "6vnRI6IYTOtZ",
        "outputId": "fef2339f-7c4e-48e1-d21e-7c2c90fcc8e3"
      },
      "source": [
        "answer(19)"
      ],
      "execution_count": null,
      "outputs": [
        {
          "output_type": "stream",
          "text": [
            "Z = np.zeros((8,8),dtype=int)\n",
            "Z[1::2,::2] = 1\n",
            "Z[::2,1::2] = 1\n",
            "print(Z)\n"
          ],
          "name": "stdout"
        }
      ]
    },
    {
      "cell_type": "markdown",
      "metadata": {
        "id": "23d6gS59U_tu"
      },
      "source": [
        "#### 20. Consider a (6,7,8) shape array, what is the index (x,y,z) of the 100th element?"
      ]
    },
    {
      "cell_type": "code",
      "metadata": {
        "id": "fJHOobv4U_tv",
        "colab": {
          "base_uri": "https://localhost:8080/"
        },
        "outputId": "d5506b7a-0360-45f9-ef0d-c412079690a0"
      },
      "source": [
        "Z = np.ones((6, 7, 8))\n",
        "\n",
        "# 원하는 원소의 위치, (사이즈)\n",
        "print(np.unravel_index(99, (6, 7, 8)))"
      ],
      "execution_count": null,
      "outputs": [
        {
          "output_type": "stream",
          "text": [
            "(1, 5, 3)\n"
          ],
          "name": "stdout"
        }
      ]
    },
    {
      "cell_type": "code",
      "metadata": {
        "colab": {
          "base_uri": "https://localhost:8080/"
        },
        "id": "XoG2DYP_dRpL",
        "outputId": "53542c1e-67b8-4616-a665-6f01dfc0326e"
      },
      "source": [
        "answer(20)"
      ],
      "execution_count": null,
      "outputs": [
        {
          "output_type": "stream",
          "text": [
            "print(np.unravel_index(99,(6,7,8)))\n"
          ],
          "name": "stdout"
        }
      ]
    }
  ]
}