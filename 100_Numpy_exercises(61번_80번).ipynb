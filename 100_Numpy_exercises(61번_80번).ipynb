{
  "nbformat": 4,
  "nbformat_minor": 0,
  "metadata": {
    "kernelspec": {
      "display_name": "Python 3",
      "language": "python",
      "name": "python3"
    },
    "language_info": {
      "codemirror_mode": {
        "name": "ipython",
        "version": 3
      },
      "file_extension": ".py",
      "mimetype": "text/x-python",
      "name": "python",
      "nbconvert_exporter": "python",
      "pygments_lexer": "ipython3",
      "version": "3.7.7"
    },
    "colab": {
      "name": "100_Numpy_exercises(61번-80번).ipynb",
      "provenance": [],
      "collapsed_sections": [],
      "toc_visible": true
    }
  },
  "cells": [
    {
      "cell_type": "markdown",
      "metadata": {
        "id": "sbQI7FBSU_tk"
      },
      "source": [
        "# 100 numpy exercises\n",
        "\n",
        "This is a collection of exercises that have been collected in the numpy mailing list, on stack overflow\n",
        "and in the numpy documentation. The goal of this collection is to offer a quick reference for both old\n",
        "and new users but also to provide a set of exercises for those who teach.\n",
        "\n",
        "\n",
        "If you find an error or think you've a better way to solve some of them, feel\n",
        "free to open an issue at <https://github.com/rougier/numpy-100>."
      ]
    },
    {
      "cell_type": "code",
      "metadata": {
        "id": "YGtjHrkQWd2f"
      },
      "source": [
        "import os\n",
        "\n",
        "os.chdir('/content/drive/MyDrive/numpy-100')"
      ],
      "execution_count": null,
      "outputs": []
    },
    {
      "cell_type": "code",
      "metadata": {
        "colab": {
          "base_uri": "https://localhost:8080/"
        },
        "id": "RycfSIAYGtR1",
        "outputId": "92e97aee-eff8-43e4-a69c-6f804e07bda1"
      },
      "source": [
        "!pip install mdutils"
      ],
      "execution_count": null,
      "outputs": [
        {
          "output_type": "stream",
          "text": [
            "Collecting mdutils\n",
            "  Downloading https://files.pythonhosted.org/packages/59/52/3d943b6d02a9938ad367366aef8b002c5c1bf258e451db5e8551b3d28801/mdutils-1.3.0.tar.gz\n",
            "Building wheels for collected packages: mdutils\n",
            "  Building wheel for mdutils (setup.py) ... \u001b[?25l\u001b[?25hdone\n",
            "  Created wheel for mdutils: filename=mdutils-1.3.0-cp37-none-any.whl size=19449 sha256=5d436ac5ee85959bd7f1d1dcca5426dd7d755f4d568bcca9c82ba3d02c997e9f\n",
            "  Stored in directory: /root/.cache/pip/wheels/af/fa/1c/7b13e92bdfc39eda5970b21a15f04f6a5158dea4e3f459854d\n",
            "Successfully built mdutils\n",
            "Installing collected packages: mdutils\n",
            "Successfully installed mdutils-1.3.0\n"
          ],
          "name": "stdout"
        }
      ]
    },
    {
      "cell_type": "markdown",
      "metadata": {
        "id": "OXXrTtpwU_to"
      },
      "source": [
        "File automatically generated. See the documentation to update questions/answers/hints programmatically."
      ]
    },
    {
      "cell_type": "markdown",
      "metadata": {
        "id": "l_kGpIRPU_to"
      },
      "source": [
        "Run the `initialize.py` module, then for each question you can query the\n",
        "answer or an hint with `hint(n)` or `answer(n)` for `n` question number."
      ]
    },
    {
      "cell_type": "code",
      "metadata": {
        "id": "FXECzEtZU_to"
      },
      "source": [
        "%run initialise.py"
      ],
      "execution_count": null,
      "outputs": []
    },
    {
      "cell_type": "markdown",
      "metadata": {
        "id": "C-GsHxi0U_t5"
      },
      "source": [
        "#### 61. Find the nearest value from a given value in an array (★★☆)"
      ]
    },
    {
      "cell_type": "code",
      "metadata": {
        "id": "Cn0BlVGJU_t5",
        "colab": {
          "base_uri": "https://localhost:8080/"
        },
        "outputId": "741f760b-3ad0-4606-a377-51ef9a655243"
      },
      "source": [
        "A = np.arange(50).reshape(5, 10)\n",
        "print(\"Original: \", A)\n",
        "\n",
        "given_value = 11.8\n",
        "\n",
        "print(A.flat[np.abs(A - given_value).argmin()])"
      ],
      "execution_count": null,
      "outputs": [
        {
          "output_type": "stream",
          "text": [
            "Original:  [[ 0  1  2  3  4  5  6  7  8  9]\n",
            " [10 11 12 13 14 15 16 17 18 19]\n",
            " [20 21 22 23 24 25 26 27 28 29]\n",
            " [30 31 32 33 34 35 36 37 38 39]\n",
            " [40 41 42 43 44 45 46 47 48 49]]\n",
            "12\n"
          ],
          "name": "stdout"
        }
      ]
    },
    {
      "cell_type": "code",
      "metadata": {
        "colab": {
          "base_uri": "https://localhost:8080/"
        },
        "id": "vZsDYSVJ1zGm",
        "outputId": "f93c130d-2344-43ff-e1fa-889f727557d6"
      },
      "source": [
        "answer(61)"
      ],
      "execution_count": null,
      "outputs": [
        {
          "output_type": "stream",
          "text": [
            "Z = np.random.uniform(0,1,10)\n",
            "z = 0.5\n",
            "m = Z.flat[np.abs(Z - z).argmin()]\n",
            "print(m)\n"
          ],
          "name": "stdout"
        }
      ]
    },
    {
      "cell_type": "markdown",
      "metadata": {
        "id": "TVCiOx0dU_t5"
      },
      "source": [
        "#### 62. Considering two arrays with shape (1,3) and (3,1), how to compute their sum using an iterator? (★★☆)\n",
        "결과가 (3, 3) 형태로 나와야됨"
      ]
    },
    {
      "cell_type": "code",
      "metadata": {
        "id": "7ZNMTx06U_t5",
        "colab": {
          "base_uri": "https://localhost:8080/"
        },
        "outputId": "d0fd911d-5b0e-4817-ad21-942affb06132"
      },
      "source": [
        "A = np.arange(1, 4).reshape(1, 3)\n",
        "print(A)\n",
        "\n",
        "B = np.arange(5, 8).reshape(3, 1)\n",
        "print(B)\n",
        "#print(A.flatten())\n",
        "#print(B.flatten())\n",
        "#print(A.flatten()  B.flatten())\n",
        "\n",
        "#it = np.nditer([A.flatten() B.flatten()])\n",
        "\n",
        "#while not it.finished:\n",
        "#    print(it[0])\n",
        "#    it.iternext()\n",
        "\n",
        "\n",
        "it = np.nditer([A,B, None])\n",
        "\n",
        "for x,y,z in it:\n",
        "    print(x, y, z)\n",
        "    z = x + y\n",
        "    print(\"Z:\", z)\n",
        "print(it.operands[2])\n",
        "print(it.operands[0])\n",
        "print(it.operands[1])\n"
      ],
      "execution_count": null,
      "outputs": [
        {
          "output_type": "stream",
          "text": [
            "[[1 2 3]]\n",
            "[[5]\n",
            " [6]\n",
            " [7]]\n",
            "1 5 6\n",
            "Z: 6\n",
            "2 5 7\n",
            "Z: 7\n",
            "3 5 8\n",
            "Z: 8\n",
            "1 6 7\n",
            "Z: 7\n",
            "2 6 8\n",
            "Z: 8\n",
            "3 6 9\n",
            "Z: 9\n",
            "1 7 8\n",
            "Z: 8\n",
            "2 7 9\n",
            "Z: 9\n",
            "3 7 10\n",
            "Z: 10\n",
            "[[ 6  7  8]\n",
            " [ 7  8  9]\n",
            " [ 8  9 10]]\n",
            "[[1 2 3]]\n",
            "[[5]\n",
            " [6]\n",
            " [7]]\n"
          ],
          "name": "stdout"
        }
      ]
    },
    {
      "cell_type": "code",
      "metadata": {
        "colab": {
          "base_uri": "https://localhost:8080/"
        },
        "id": "rk3lg-SW4c31",
        "outputId": "5bf6db67-459c-48cc-c90d-54c063f7ab9a"
      },
      "source": [
        "answer(62)"
      ],
      "execution_count": null,
      "outputs": [
        {
          "output_type": "stream",
          "text": [
            "A = np.arange(3).reshape(3,1)\n",
            "B = np.arange(3).reshape(1,3)\n",
            "it = np.nditer([A,B,None])\n",
            "for x,y,z in it: z[...] = x + y\n",
            "print(it.operands[2])\n"
          ],
          "name": "stdout"
        }
      ]
    },
    {
      "cell_type": "markdown",
      "metadata": {
        "id": "_hTaPOLbU_t5"
      },
      "source": [
        "#### 63. Create an array class that has a name attribute (★★☆)"
      ]
    },
    {
      "cell_type": "code",
      "metadata": {
        "id": "YDuEMOBkU_t6",
        "colab": {
          "base_uri": "https://localhost:8080/"
        },
        "outputId": "5ba0dac5-ade2-4c81-cabc-a57936b3be22"
      },
      "source": [
        "answer(63)"
      ],
      "execution_count": null,
      "outputs": [
        {
          "output_type": "stream",
          "text": [
            "class NamedArray(np.ndarray):\n",
            "    def __new__(cls, array, name=\"no name\"):\n",
            "        obj = np.asarray(array).view(cls)\n",
            "        obj.name = name\n",
            "        return obj\n",
            "    def __array_finalize__(self, obj):\n",
            "        if obj is None: return\n",
            "        self.info = getattr(obj, 'name', \"no name\")\n",
            "\n",
            "Z = NamedArray(np.arange(10), \"range_10\")\n",
            "print (Z.name)\n"
          ],
          "name": "stdout"
        }
      ]
    },
    {
      "cell_type": "markdown",
      "metadata": {
        "id": "wNUHKLaLU_t6"
      },
      "source": [
        "#### 64. Consider a given vector, how to add 1 to each element indexed by a second vector (be careful with repeated indices)? (★★★)\n",
        "벡터가 하나 주어졌다고 했을 때, 다른 벡터에 의해 주어진 index를 가지고 주어진 벡터의 각 요소에 1을 더해주는 방법은?\n"
      ]
    },
    {
      "cell_type": "code",
      "metadata": {
        "colab": {
          "base_uri": "https://localhost:8080/"
        },
        "id": "OZtNhcd7EvUD",
        "outputId": "1efdea8d-2a7b-4b5c-a12a-4efa94eb6f69"
      },
      "source": [
        "A = np.ones(10)\n",
        "B = np.random.randint(0, len(A), 20)\n",
        "\n",
        "print(B)\n",
        "np.add.at(A, B, 1)\n",
        "print(A)"
      ],
      "execution_count": null,
      "outputs": [
        {
          "output_type": "stream",
          "text": [
            "[1 4 5 7 1 4 1 0 3 2 3 9 5 2 2 4 6 3 1 6]\n",
            "[2. 5. 4. 4. 4. 3. 3. 2. 1. 2.]\n"
          ],
          "name": "stdout"
        }
      ]
    },
    {
      "cell_type": "code",
      "metadata": {
        "colab": {
          "base_uri": "https://localhost:8080/"
        },
        "id": "x93xUiKiEeNG",
        "outputId": "3a74beee-6a9d-4af3-eb0a-be3b3f40da31"
      },
      "source": [
        "answer(64)"
      ],
      "execution_count": null,
      "outputs": [
        {
          "output_type": "stream",
          "text": [
            "# Author: Brett Olsen\n",
            "\n",
            "Z = np.ones(10)\n",
            "I = np.random.randint(0,len(Z),20)\n",
            "Z += np.bincount(I, minlength=len(Z))\n",
            "print(Z)\n",
            "\n",
            "# Another solution\n",
            "# Author: Bartosz Telenczuk\n",
            "np.add.at(Z, I, 1)\n",
            "print(Z)\n"
          ],
          "name": "stdout"
        }
      ]
    },
    {
      "cell_type": "markdown",
      "metadata": {
        "id": "3CqFppy2U_t6"
      },
      "source": [
        "#### 65. How to accumulate elements of a vector (X) to an array (F) based on an index list (I)? (★★★)"
      ]
    },
    {
      "cell_type": "code",
      "metadata": {
        "colab": {
          "base_uri": "https://localhost:8080/"
        },
        "id": "98916c9QCG0r",
        "outputId": "83f4b7f5-1266-4e04-ab17-7a6fdb416ef5"
      },
      "source": [
        "X = [1, 2, 3, 4, 5, 6]\n",
        "I = [1, 3, 9, 3, 4, 1]\n",
        "F = np.bincount(I, X) # count numbers in I, and weight is X. \n",
        "print(F)"
      ],
      "execution_count": null,
      "outputs": [
        {
          "output_type": "stream",
          "text": [
            "[0. 7. 0. 6. 5. 0. 0. 0. 0. 3.]\n"
          ],
          "name": "stdout"
        }
      ]
    },
    {
      "cell_type": "code",
      "metadata": {
        "colab": {
          "base_uri": "https://localhost:8080/"
        },
        "id": "G3wyEggABjDV",
        "outputId": "a3ff5a93-3a3a-4e2f-90e7-7041723d80ad"
      },
      "source": [
        "answer(65)"
      ],
      "execution_count": null,
      "outputs": [
        {
          "output_type": "stream",
          "text": [
            "# Author: Alan G Isaac\n",
            "\n",
            "X = [1,2,3,4,5,6]\n",
            "I = [1,3,9,3,4,1]\n",
            "F = np.bincount(I,X)\n",
            "print(F)\n"
          ],
          "name": "stdout"
        }
      ]
    },
    {
      "cell_type": "markdown",
      "metadata": {
        "id": "b5Hk4qiBU_t6"
      },
      "source": [
        "#### 66. Considering a (w,h,3) image of (dtype=ubyte), compute the number of unique colors (★★☆)"
      ]
    },
    {
      "cell_type": "code",
      "metadata": {
        "colab": {
          "base_uri": "https://localhost:8080/"
        },
        "id": "SqNy65HgEyrz",
        "outputId": "c5674d3d-f7d1-45c4-f435-9a0929cf34a5"
      },
      "source": [
        "w, h = 15 , 15\n",
        "I = np.random.randint(0, 4, (h, w, 3)).astype(np.ubyte)\n",
        "colors, counts = np.unique(I.reshape(-1, 3), axis = 0, return_counts = True)\n",
        "print(colors)\n",
        "print(counts)"
      ],
      "execution_count": null,
      "outputs": [
        {
          "output_type": "stream",
          "text": [
            "[[0 0 0]\n",
            " [0 0 1]\n",
            " [0 0 2]\n",
            " [0 0 3]\n",
            " [0 1 0]\n",
            " [0 1 1]\n",
            " [0 1 2]\n",
            " [0 1 3]\n",
            " [0 2 0]\n",
            " [0 2 1]\n",
            " [0 2 2]\n",
            " [0 2 3]\n",
            " [0 3 0]\n",
            " [0 3 1]\n",
            " [0 3 2]\n",
            " [0 3 3]\n",
            " [1 0 0]\n",
            " [1 0 1]\n",
            " [1 0 2]\n",
            " [1 0 3]\n",
            " [1 1 0]\n",
            " [1 1 1]\n",
            " [1 1 2]\n",
            " [1 1 3]\n",
            " [1 2 0]\n",
            " [1 2 1]\n",
            " [1 2 2]\n",
            " [1 2 3]\n",
            " [1 3 0]\n",
            " [1 3 1]\n",
            " [1 3 2]\n",
            " [1 3 3]\n",
            " [2 0 0]\n",
            " [2 0 2]\n",
            " [2 0 3]\n",
            " [2 1 0]\n",
            " [2 1 1]\n",
            " [2 1 2]\n",
            " [2 1 3]\n",
            " [2 2 0]\n",
            " [2 2 1]\n",
            " [2 2 2]\n",
            " [2 2 3]\n",
            " [2 3 0]\n",
            " [2 3 1]\n",
            " [2 3 2]\n",
            " [2 3 3]\n",
            " [3 0 0]\n",
            " [3 0 1]\n",
            " [3 0 2]\n",
            " [3 0 3]\n",
            " [3 1 0]\n",
            " [3 1 1]\n",
            " [3 1 2]\n",
            " [3 1 3]\n",
            " [3 2 2]\n",
            " [3 2 3]\n",
            " [3 3 0]\n",
            " [3 3 1]\n",
            " [3 3 2]\n",
            " [3 3 3]]\n",
            "[6 3 6 2 1 4 3 4 2 2 3 4 2 2 3 5 5 7 2 2 2 2 4 9 6 4 6 3 5 4 3 1 3 3 4 5 3\n",
            " 3 4 1 6 4 4 5 5 6 4 3 1 5 3 5 5 4 4 3 1 5 2 2 5]\n"
          ],
          "name": "stdout"
        }
      ]
    },
    {
      "cell_type": "code",
      "metadata": {
        "colab": {
          "base_uri": "https://localhost:8080/"
        },
        "id": "Gtde656CES-z",
        "outputId": "88026344-a477-4288-92e7-4a4be96338ef"
      },
      "source": [
        "answer(66)"
      ],
      "execution_count": null,
      "outputs": [
        {
          "output_type": "stream",
          "text": [
            "# Author: Fisher Wang\n",
            "\n",
            "w, h = 256, 256\n",
            "I = np.random.randint(0, 4, (h, w, 3)).astype(np.ubyte)\n",
            "colors = np.unique(I.reshape(-1, 3), axis=0)\n",
            "n = len(colors)\n",
            "print(n)\n",
            "\n",
            "# Faster version\n",
            "# Author: Mark Setchell\n",
            "# https://stackoverflow.com/a/59671950/2836621\n",
            "\n",
            "w, h = 256, 256\n",
            "I = np.random.randint(0,4,(h,w,3), dtype=np.uint8)\n",
            "\n",
            "# View each pixel as a single 24-bit integer, rather than three 8-bit bytes\n",
            "I24 = np.dot(I.astype(np.uint32),[1,256,65536])\n",
            "\n",
            "# Count unique colours\n",
            "n = len(np.unique(I24))\n",
            "print(n)\n"
          ],
          "name": "stdout"
        }
      ]
    },
    {
      "cell_type": "markdown",
      "metadata": {
        "id": "23xzNdHvU_t7"
      },
      "source": [
        "#### 67. Considering a four dimensions array, how to get sum over the last two axis at once? (★★★)"
      ]
    },
    {
      "cell_type": "code",
      "metadata": {
        "id": "C58NCaK2U_t7",
        "colab": {
          "base_uri": "https://localhost:8080/"
        },
        "outputId": "1e72bf61-ddfa-4f48-b6e0-f8f7dc20520b"
      },
      "source": [
        "A = np.random.randint(0,10,(3,4,3,4))\n",
        "print(A)\n",
        "\n",
        "print(A.sum(axis = (-2, -1)))\n",
        "print(np.sum(A, axis = (-2, -1))) # same result?"
      ],
      "execution_count": null,
      "outputs": [
        {
          "output_type": "stream",
          "text": [
            "[[[[9 4 6 2]\n",
            "   [5 4 7 2]\n",
            "   [7 1 0 9]]\n",
            "\n",
            "  [[5 7 9 3]\n",
            "   [4 8 5 1]\n",
            "   [1 0 7 8]]\n",
            "\n",
            "  [[3 7 2 8]\n",
            "   [4 9 3 9]\n",
            "   [8 9 7 2]]\n",
            "\n",
            "  [[5 9 3 8]\n",
            "   [0 3 5 7]\n",
            "   [4 6 2 7]]]\n",
            "\n",
            "\n",
            " [[[7 8 1 7]\n",
            "   [0 3 1 5]\n",
            "   [3 6 4 6]]\n",
            "\n",
            "  [[3 4 0 8]\n",
            "   [9 7 5 0]\n",
            "   [2 2 1 5]]\n",
            "\n",
            "  [[2 0 8 0]\n",
            "   [9 0 1 8]\n",
            "   [8 1 4 8]]\n",
            "\n",
            "  [[0 0 2 2]\n",
            "   [5 3 8 9]\n",
            "   [4 3 8 8]]]\n",
            "\n",
            "\n",
            " [[[5 8 7 5]\n",
            "   [9 8 4 3]\n",
            "   [6 3 7 2]]\n",
            "\n",
            "  [[6 3 1 3]\n",
            "   [8 6 7 1]\n",
            "   [9 0 6 2]]\n",
            "\n",
            "  [[6 0 1 9]\n",
            "   [3 9 5 0]\n",
            "   [5 8 6 2]]\n",
            "\n",
            "  [[5 8 4 1]\n",
            "   [4 5 7 6]\n",
            "   [0 0 7 6]]]]\n",
            "[[56 58 71 59]\n",
            " [51 46 49 52]\n",
            " [67 52 54 53]]\n",
            "[[56 58 71 59]\n",
            " [51 46 49 52]\n",
            " [67 52 54 53]]\n"
          ],
          "name": "stdout"
        }
      ]
    },
    {
      "cell_type": "code",
      "metadata": {
        "colab": {
          "base_uri": "https://localhost:8080/"
        },
        "id": "ouAcnWYRHvLi",
        "outputId": "764783ab-abcd-4b3e-dede-4e2e62da6e72"
      },
      "source": [
        "answer(67)"
      ],
      "execution_count": null,
      "outputs": [
        {
          "output_type": "stream",
          "text": [
            "A = np.random.randint(0,10,(3,4,3,4))\n",
            "# solution by passing a tuple of axes (introduced in numpy 1.7.0)\n",
            "sum = A.sum(axis=(-2,-1))\n",
            "print(sum)\n",
            "# solution by flattening the last two dimensions into one\n",
            "# (useful for functions that don't accept tuples for axis argument)\n",
            "sum = A.reshape(A.shape[:-2] + (-1,)).sum(axis=-1)\n",
            "print(sum)\n"
          ],
          "name": "stdout"
        }
      ]
    },
    {
      "cell_type": "code",
      "metadata": {
        "colab": {
          "base_uri": "https://localhost:8080/"
        },
        "id": "Pf28XYPrHqik",
        "outputId": "5eb50ecd-ff6e-4fc6-98ea-cb8a69094e60"
      },
      "source": [
        "hint(67)"
      ],
      "execution_count": null,
      "outputs": [
        {
          "output_type": "stream",
          "text": [
            "hint: sum(axis=(-2,-1))\n"
          ],
          "name": "stdout"
        }
      ]
    },
    {
      "cell_type": "markdown",
      "metadata": {
        "id": "45R2BPCkU_t7"
      },
      "source": [
        "#### 68. Considering a one-dimensional vector D, how to compute means of subsets of D using a vector S of same size describing subset  indices? (★★★)"
      ]
    },
    {
      "cell_type": "code",
      "metadata": {
        "id": "xEvfzU1vU_t7",
        "colab": {
          "base_uri": "https://localhost:8080/"
        },
        "outputId": "e8920063-ae42-45af-bb22-df1b5bf59615"
      },
      "source": [
        "D = np.array([1, 2, 3, 4, 5, 6, 5, 4, 4, 2])\n",
        "S = np.array([0, 2, 3, 5, 0, 2, 1, 4, 6, 7]) # subset indices\n",
        "\n",
        "D_sums = np.bincount(S, D) \n",
        "print(D_sums)\n",
        "\n",
        "D_counts = np.bincount(S) # subset counts\n",
        "print(D_counts)\n",
        "\n",
        "D_means = D_sums / D_counts\n",
        "print(D_means)"
      ],
      "execution_count": null,
      "outputs": [
        {
          "output_type": "stream",
          "text": [
            "[6. 5. 8. 3. 4. 4. 4. 2.]\n",
            "[2 1 2 1 1 1 1 1]\n",
            "[3. 5. 4. 3. 4. 4. 4. 2.]\n"
          ],
          "name": "stdout"
        }
      ]
    },
    {
      "cell_type": "code",
      "metadata": {
        "colab": {
          "base_uri": "https://localhost:8080/"
        },
        "id": "ugKOSs5PKJXL",
        "outputId": "e7ec6e01-9b1f-43e7-ef16-a23c0c1423ce"
      },
      "source": [
        "answer(68)"
      ],
      "execution_count": null,
      "outputs": [
        {
          "output_type": "stream",
          "text": [
            "# Author: Jaime Fernández del Río\n",
            "\n",
            "D = np.random.uniform(0,1,100)\n",
            "S = np.random.randint(0,10,100)\n",
            "D_sums = np.bincount(S, weights=D)\n",
            "D_counts = np.bincount(S)\n",
            "D_means = D_sums / D_counts\n",
            "print(D_means)\n",
            "\n",
            "# Pandas solution as a reference due to more intuitive code\n",
            "import pandas as pd\n",
            "print(pd.Series(D).groupby(S).mean())\n"
          ],
          "name": "stdout"
        }
      ]
    },
    {
      "cell_type": "markdown",
      "metadata": {
        "id": "NmTYFMi9U_t7"
      },
      "source": [
        "#### 69. How to get the diagonal of a dot product? (★★★)"
      ]
    },
    {
      "cell_type": "code",
      "metadata": {
        "id": "7_VwKUG8U_t7",
        "colab": {
          "base_uri": "https://localhost:8080/"
        },
        "outputId": "e4e3851c-5c23-4cbb-b357-5004072a7044"
      },
      "source": [
        "A = np.array([[1, 2, 3], [4, 5, 6], [7, 8, 9]])\n",
        "B = np.array([[1, 2, 1], [1, 2, 1], [1, 2, 1]])\n",
        "\n",
        "print(np.diag(np.dot(A, B)))"
      ],
      "execution_count": null,
      "outputs": [
        {
          "output_type": "stream",
          "text": [
            "[ 6 30 24]\n"
          ],
          "name": "stdout"
        }
      ]
    },
    {
      "cell_type": "code",
      "metadata": {
        "colab": {
          "base_uri": "https://localhost:8080/"
        },
        "id": "Uo1BqBwRQsGB",
        "outputId": "5d649034-293e-4c78-8a89-19318b004650"
      },
      "source": [
        "answer(69)"
      ],
      "execution_count": null,
      "outputs": [
        {
          "output_type": "stream",
          "text": [
            "# Author: Mathieu Blondel\n",
            "\n",
            "A = np.random.uniform(0,1,(5,5))\n",
            "B = np.random.uniform(0,1,(5,5))\n",
            "\n",
            "# Slow version\n",
            "np.diag(np.dot(A, B))\n",
            "\n",
            "# Fast version\n",
            "np.sum(A * B.T, axis=1)\n",
            "\n",
            "# Faster version\n",
            "np.einsum(\"ij,ji->i\", A, B)\n"
          ],
          "name": "stdout"
        }
      ]
    },
    {
      "cell_type": "markdown",
      "metadata": {
        "id": "Y3wzpR0RU_t7"
      },
      "source": [
        "#### 70. Consider the vector [1, 2, 3, 4, 5], how to build a new vector with 3 consecutive zeros interleaved between each value? (★★★)"
      ]
    },
    {
      "cell_type": "code",
      "metadata": {
        "colab": {
          "base_uri": "https://localhost:8080/"
        },
        "id": "r7MtCS-aRgCh",
        "outputId": "9b57d874-d6ad-4cc6-c142-ed88a389a2f9"
      },
      "source": [
        "A = np.array([1, 2, 3, 4, 5])\n",
        "\n",
        "B = np.zeros(len(A) * 4)\n",
        "print(B)\n",
        "\n",
        "B[::4] = A\n",
        "print(B)"
      ],
      "execution_count": null,
      "outputs": [
        {
          "output_type": "stream",
          "text": [
            "[0. 0. 0. 0. 0. 0. 0. 0. 0. 0. 0. 0. 0. 0. 0. 0. 0. 0. 0. 0.]\n",
            "[1. 0. 0. 0. 2. 0. 0. 0. 3. 0. 0. 0. 4. 0. 0. 0. 5. 0. 0. 0.]\n"
          ],
          "name": "stdout"
        }
      ]
    },
    {
      "cell_type": "markdown",
      "metadata": {
        "id": "tgzlFqehU_t8"
      },
      "source": [
        "#### 71. Consider an array of dimension (5,5,3), how to mulitply it by an array with dimensions (5,5)? (★★★)"
      ]
    },
    {
      "cell_type": "code",
      "metadata": {
        "id": "hI_6l22bU_t8",
        "colab": {
          "base_uri": "https://localhost:8080/"
        },
        "outputId": "411195f2-e9fd-4c1a-9884-74fdb22bc321"
      },
      "source": [
        "A = np.arange(5*5*3).reshape(5, 5, 3)\n",
        "print(A, A.shape)\n",
        "\n",
        "B = 2 * np.ones((5, 5))\n",
        "print(B[:, :, None].shape) # (5, 5, 1)\n",
        "\n",
        "print(\"Those are equal?\" , np.array_equal(B[:, :, None], np.expand_dims(B, axis = -1))) # 사실상 같음. 그냥 expand_dims를 쓰는게 낫지 않을까?\n",
        "\n",
        "print(A * np.expand_dims(B, axis = - 1)) # 즉, (5,5)를 (5, 5, 1)로 만들어서 차원을 맞춰서 연산하게 만들어준 것"
      ],
      "execution_count": null,
      "outputs": [
        {
          "output_type": "stream",
          "text": [
            "[[[ 0  1  2]\n",
            "  [ 3  4  5]\n",
            "  [ 6  7  8]\n",
            "  [ 9 10 11]\n",
            "  [12 13 14]]\n",
            "\n",
            " [[15 16 17]\n",
            "  [18 19 20]\n",
            "  [21 22 23]\n",
            "  [24 25 26]\n",
            "  [27 28 29]]\n",
            "\n",
            " [[30 31 32]\n",
            "  [33 34 35]\n",
            "  [36 37 38]\n",
            "  [39 40 41]\n",
            "  [42 43 44]]\n",
            "\n",
            " [[45 46 47]\n",
            "  [48 49 50]\n",
            "  [51 52 53]\n",
            "  [54 55 56]\n",
            "  [57 58 59]]\n",
            "\n",
            " [[60 61 62]\n",
            "  [63 64 65]\n",
            "  [66 67 68]\n",
            "  [69 70 71]\n",
            "  [72 73 74]]] (5, 5, 3)\n",
            "Those are equal? True\n",
            "[[[  0.   2.   4.]\n",
            "  [  6.   8.  10.]\n",
            "  [ 12.  14.  16.]\n",
            "  [ 18.  20.  22.]\n",
            "  [ 24.  26.  28.]]\n",
            "\n",
            " [[ 30.  32.  34.]\n",
            "  [ 36.  38.  40.]\n",
            "  [ 42.  44.  46.]\n",
            "  [ 48.  50.  52.]\n",
            "  [ 54.  56.  58.]]\n",
            "\n",
            " [[ 60.  62.  64.]\n",
            "  [ 66.  68.  70.]\n",
            "  [ 72.  74.  76.]\n",
            "  [ 78.  80.  82.]\n",
            "  [ 84.  86.  88.]]\n",
            "\n",
            " [[ 90.  92.  94.]\n",
            "  [ 96.  98. 100.]\n",
            "  [102. 104. 106.]\n",
            "  [108. 110. 112.]\n",
            "  [114. 116. 118.]]\n",
            "\n",
            " [[120. 122. 124.]\n",
            "  [126. 128. 130.]\n",
            "  [132. 134. 136.]\n",
            "  [138. 140. 142.]\n",
            "  [144. 146. 148.]]]\n"
          ],
          "name": "stdout"
        }
      ]
    },
    {
      "cell_type": "code",
      "metadata": {
        "colab": {
          "base_uri": "https://localhost:8080/"
        },
        "id": "h6yjKEOJRm8j",
        "outputId": "5ad4e6b5-c9ec-445b-ac7b-91a340132ab7"
      },
      "source": [
        "answer(71)"
      ],
      "execution_count": null,
      "outputs": [
        {
          "output_type": "stream",
          "text": [
            "A = np.ones((5,5,3))\n",
            "B = 2*np.ones((5,5))\n",
            "print(A * B[:,:,None])\n"
          ],
          "name": "stdout"
        }
      ]
    },
    {
      "cell_type": "markdown",
      "metadata": {
        "id": "WEg5bDQiU_t8"
      },
      "source": [
        "#### 72. How to swap two rows of an array? (★★★)"
      ]
    },
    {
      "cell_type": "code",
      "metadata": {
        "id": "GkXaY9EnU_t8",
        "colab": {
          "base_uri": "https://localhost:8080/"
        },
        "outputId": "707e45ae-aa50-4b41-b43f-2c101a2c5206"
      },
      "source": [
        "A = np.arange(15).reshape(3, 5)\n",
        "print(A)\n",
        "\n",
        "A[[0, 1]] = A[[1, 0]]\n",
        "\n",
        "print(A)"
      ],
      "execution_count": null,
      "outputs": [
        {
          "output_type": "stream",
          "text": [
            "[[ 0  1  2  3  4]\n",
            " [ 5  6  7  8  9]\n",
            " [10 11 12 13 14]]\n",
            "[[ 5  6  7  8  9]\n",
            " [ 0  1  2  3  4]\n",
            " [10 11 12 13 14]]\n"
          ],
          "name": "stdout"
        }
      ]
    },
    {
      "cell_type": "code",
      "metadata": {
        "colab": {
          "base_uri": "https://localhost:8080/"
        },
        "id": "DMolfjKTWt7I",
        "outputId": "b217e274-afc7-4409-bd70-8afd2ff3ef95"
      },
      "source": [
        "# 두 개가 동일합니다.\n",
        "print(A[[0, 1], :])\n",
        "print(A[[0, 1]])\n",
        "\n",
        "#즉, A[[0, 1]] 두 열로 구성된 submatrix를 만드는 것입니다."
      ],
      "execution_count": null,
      "outputs": [
        {
          "output_type": "stream",
          "text": [
            "[[5 6 7 8 9]\n",
            " [0 1 2 3 4]]\n",
            "[[5 6 7 8 9]\n",
            " [0 1 2 3 4]]\n"
          ],
          "name": "stdout"
        }
      ]
    },
    {
      "cell_type": "code",
      "metadata": {
        "colab": {
          "base_uri": "https://localhost:8080/"
        },
        "id": "d3CHZWoIUZlA",
        "outputId": "032b252e-b43e-4af0-979e-cb0ddb71c6ba"
      },
      "source": [
        "answer(72)"
      ],
      "execution_count": null,
      "outputs": [
        {
          "output_type": "stream",
          "text": [
            "# Author: Eelco Hoogendoorn\n",
            "\n",
            "A = np.arange(25).reshape(5,5)\n",
            "A[[0,1]] = A[[1,0]]\n",
            "print(A)\n"
          ],
          "name": "stdout"
        }
      ]
    },
    {
      "cell_type": "markdown",
      "metadata": {
        "id": "dBcGpuIKU_t8"
      },
      "source": [
        "#### 73. Consider a set of 10 triplets describing 10 triangles (with shared vertices), find the set of unique line segments composing all the  triangles (★★★)"
      ]
    },
    {
      "cell_type": "code",
      "metadata": {
        "id": "FpyZr17oU_t8",
        "colab": {
          "base_uri": "https://localhost:8080/"
        },
        "outputId": "ae010cc0-efc3-4ba4-85ee-05211d3c3d9d"
      },
      "source": [
        "# 이 문제는 문제를 이해 못했음 ㅠㅠ\n",
        "faces = np.random.randint(0, 100, (10, 3))\n",
        "print(faces)\n",
        "F = np.roll(faces.repeat(2, axis = 1), -1, axis = 1) # face를 2번씩 반복시킨 다음, 가로 기준으로 가장 끝쪽부터 배열되도록 만들어줌\n",
        "print(F)\n",
        "F = F.reshape(len(F)*3, 2) # (30, 2)로 만들어줌\n",
        "print(F)\n",
        "F = np.sort(F, axis = 1) # 가로 기준으로 오름차순 배열\n",
        "print(F)\n",
        "G = F.view( dtype=[('p0',F.dtype),('p1',F.dtype)] )\n",
        "G = np.unique(G)\n",
        "print(G)"
      ],
      "execution_count": null,
      "outputs": [
        {
          "output_type": "stream",
          "text": [
            "[[28 92 44]\n",
            " [61 14 52]\n",
            " [77 95 71]\n",
            " [ 5 20 60]\n",
            " [74 47 69]\n",
            " [47 34 81]\n",
            " [48 13 64]\n",
            " [77 85 42]\n",
            " [91 82 96]\n",
            " [ 1 47 72]]\n",
            "[[28 92 92 44 44 28]\n",
            " [61 14 14 52 52 61]\n",
            " [77 95 95 71 71 77]\n",
            " [ 5 20 20 60 60  5]\n",
            " [74 47 47 69 69 74]\n",
            " [47 34 34 81 81 47]\n",
            " [48 13 13 64 64 48]\n",
            " [77 85 85 42 42 77]\n",
            " [91 82 82 96 96 91]\n",
            " [ 1 47 47 72 72  1]]\n",
            "[[28 92]\n",
            " [92 44]\n",
            " [44 28]\n",
            " [61 14]\n",
            " [14 52]\n",
            " [52 61]\n",
            " [77 95]\n",
            " [95 71]\n",
            " [71 77]\n",
            " [ 5 20]\n",
            " [20 60]\n",
            " [60  5]\n",
            " [74 47]\n",
            " [47 69]\n",
            " [69 74]\n",
            " [47 34]\n",
            " [34 81]\n",
            " [81 47]\n",
            " [48 13]\n",
            " [13 64]\n",
            " [64 48]\n",
            " [77 85]\n",
            " [85 42]\n",
            " [42 77]\n",
            " [91 82]\n",
            " [82 96]\n",
            " [96 91]\n",
            " [ 1 47]\n",
            " [47 72]\n",
            " [72  1]]\n",
            "[[28 92]\n",
            " [44 92]\n",
            " [28 44]\n",
            " [14 61]\n",
            " [14 52]\n",
            " [52 61]\n",
            " [77 95]\n",
            " [71 95]\n",
            " [71 77]\n",
            " [ 5 20]\n",
            " [20 60]\n",
            " [ 5 60]\n",
            " [47 74]\n",
            " [47 69]\n",
            " [69 74]\n",
            " [34 47]\n",
            " [34 81]\n",
            " [47 81]\n",
            " [13 48]\n",
            " [13 64]\n",
            " [48 64]\n",
            " [77 85]\n",
            " [42 85]\n",
            " [42 77]\n",
            " [82 91]\n",
            " [82 96]\n",
            " [91 96]\n",
            " [ 1 47]\n",
            " [47 72]\n",
            " [ 1 72]]\n",
            "[( 1, 47) ( 1, 72) ( 5, 20) ( 5, 60) (13, 48) (13, 64) (14, 52) (14, 61)\n",
            " (20, 60) (28, 44) (28, 92) (34, 47) (34, 81) (42, 77) (42, 85) (44, 92)\n",
            " (47, 69) (47, 72) (47, 74) (47, 81) (48, 64) (52, 61) (69, 74) (71, 77)\n",
            " (71, 95) (77, 85) (77, 95) (82, 91) (82, 96) (91, 96)]\n"
          ],
          "name": "stdout"
        }
      ]
    },
    {
      "cell_type": "code",
      "metadata": {
        "colab": {
          "base_uri": "https://localhost:8080/"
        },
        "id": "BcPAToIVXq1T",
        "outputId": "99ec8e0a-492f-483d-b00a-a9677b38fc16"
      },
      "source": [
        "answer(73)"
      ],
      "execution_count": null,
      "outputs": [
        {
          "output_type": "stream",
          "text": [
            "# Author: Nicolas P. Rougier\n",
            "\n",
            "faces = np.random.randint(0,100,(10,3))\n",
            "F = np.roll(faces.repeat(2,axis=1),-1,axis=1)\n",
            "F = F.reshape(len(F)*3,2)\n",
            "F = np.sort(F,axis=1)\n",
            "G = F.view( dtype=[('p0',F.dtype),('p1',F.dtype)] )\n",
            "G = np.unique(G)\n",
            "print(G)\n"
          ],
          "name": "stdout"
        }
      ]
    },
    {
      "cell_type": "markdown",
      "metadata": {
        "id": "HSurvFlWU_t8"
      },
      "source": [
        "#### 74. Given a sorted array C that corresponds to a bincount, how to produce an array A such that np.bincount(A) == C? (★★★)"
      ]
    },
    {
      "cell_type": "code",
      "metadata": {
        "id": "Tw9G88bKU_t8",
        "colab": {
          "base_uri": "https://localhost:8080/"
        },
        "outputId": "e104888b-0598-483b-fba9-6a34363f60da"
      },
      "source": [
        "A = np.array([1, 3, 4, 2, 0, 5, 3, 1, 6, 2, 4])\n",
        "A = np.sort(A)\n",
        "print(\"Original array: \", A)\n",
        "C = np.bincount(A)\n",
        "print(\"bincount: \", C)\n",
        "\n",
        "print(np.repeat(np.arange(len(C)), C[::1]))"
      ],
      "execution_count": null,
      "outputs": [
        {
          "output_type": "stream",
          "text": [
            "Original array:  [0 1 1 2 2 3 3 4 4 5 6]\n",
            "bincount:  [1 2 2 2 2 1 1]\n",
            "[0 1 1 2 2 3 3 4 4 5 6]\n"
          ],
          "name": "stdout"
        }
      ]
    },
    {
      "cell_type": "code",
      "metadata": {
        "colab": {
          "base_uri": "https://localhost:8080/"
        },
        "id": "k88FvCqseO3e",
        "outputId": "7098a75e-cc74-47c5-f697-b92a8dfce625"
      },
      "source": [
        "answer(74)"
      ],
      "execution_count": null,
      "outputs": [
        {
          "output_type": "stream",
          "text": [
            "# Author: Jaime Fernández del Río\n",
            "\n",
            "C = np.bincount([1,1,2,3,4,4,6])\n",
            "A = np.repeat(np.arange(len(C)), C)\n",
            "print(A)\n"
          ],
          "name": "stdout"
        }
      ]
    },
    {
      "cell_type": "code",
      "metadata": {
        "colab": {
          "base_uri": "https://localhost:8080/"
        },
        "id": "o0l9-khidoS8",
        "outputId": "2ea2478b-ee8d-4bc4-b8c9-e3655cbcb50d"
      },
      "source": [
        "hint(74)"
      ],
      "execution_count": null,
      "outputs": [
        {
          "output_type": "stream",
          "text": [
            "hint: np.repeat\n"
          ],
          "name": "stdout"
        }
      ]
    },
    {
      "cell_type": "markdown",
      "metadata": {
        "id": "w-NkEG2tU_t9"
      },
      "source": [
        "#### 75. How to compute averages using a sliding window over an array? (★★★)"
      ]
    },
    {
      "cell_type": "code",
      "metadata": {
        "id": "Rt4cNHheU_t9",
        "colab": {
          "base_uri": "https://localhost:8080/"
        },
        "outputId": "4ae17eb2-904f-464e-b6d0-41e310f1824d"
      },
      "source": [
        "A = np.arange(10)\n",
        "\n",
        "C = np.cumsum(A)\n",
        "print(C)\n",
        "\n",
        "C[3:] = C[3:] - C[:-3]\n",
        "print(C)\n",
        "print(C[2:] / 3) # 3개 당 평균을 나타낸 것인듯"
      ],
      "execution_count": null,
      "outputs": [
        {
          "output_type": "stream",
          "text": [
            "[ 0  1  3  6 10 15 21 28 36 45]\n",
            "[ 0  1  3  6  9 12 15 18 21 24]\n",
            "[1. 2. 3. 4. 5. 6. 7. 8.]\n"
          ],
          "name": "stdout"
        }
      ]
    },
    {
      "cell_type": "code",
      "metadata": {
        "colab": {
          "base_uri": "https://localhost:8080/"
        },
        "id": "17pnH7H_g_3T",
        "outputId": "abc265c8-9cf2-475f-eaad-5075f9e73fd1"
      },
      "source": [
        "answer(75)"
      ],
      "execution_count": null,
      "outputs": [
        {
          "output_type": "stream",
          "text": [
            "# Author: Jaime Fernández del Río\n",
            "\n",
            "def moving_average(a, n=3) :\n",
            "    ret = np.cumsum(a, dtype=float)\n",
            "    ret[n:] = ret[n:] - ret[:-n]\n",
            "    return ret[n - 1:] / n\n",
            "Z = np.arange(20)\n",
            "print(moving_average(Z, n=3))\n"
          ],
          "name": "stdout"
        }
      ]
    },
    {
      "cell_type": "code",
      "metadata": {
        "colab": {
          "base_uri": "https://localhost:8080/"
        },
        "id": "gclfM7L0e-r-",
        "outputId": "ae3b0a6b-208e-4bf8-d960-cea8dc19ba57"
      },
      "source": [
        "hint(75)"
      ],
      "execution_count": null,
      "outputs": [
        {
          "output_type": "stream",
          "text": [
            "hint: np.cumsum\n"
          ],
          "name": "stdout"
        }
      ]
    },
    {
      "cell_type": "markdown",
      "metadata": {
        "id": "e7TrXJSfU_t9"
      },
      "source": [
        "#### 76. Consider a one-dimensional array Z, build a two-dimensional array whose first row is (Z[0],Z[1],Z[2]) and each subsequent row is  shifted by 1 (last row should be (Z[-3],Z[-2],Z[-1]) (★★★)"
      ]
    },
    {
      "cell_type": "code",
      "metadata": {
        "id": "4uvc4wQAU_t9"
      },
      "source": [
        ""
      ],
      "execution_count": null,
      "outputs": []
    },
    {
      "cell_type": "code",
      "metadata": {
        "colab": {
          "base_uri": "https://localhost:8080/"
        },
        "id": "kqOqc6bJprry",
        "outputId": "4d861e81-3aa6-47a6-fa91-8b4bd075fcdc"
      },
      "source": [
        "from numpy.lib import stride_tricks\n",
        "\n",
        "# stride가 정확히 뭔지 알기가 어렵다.\n",
        "\n",
        "def rolling(a, window):\n",
        "    shape = (a.size - window + 1, window)\n",
        "    strides = (a.itemsize, a.itemsize)\n",
        "    return stride_tricks.as_strided(a, shape=shape, strides=strides)\n",
        "Z = rolling(np.arange(10), 3)\n",
        "print(Z)"
      ],
      "execution_count": null,
      "outputs": [
        {
          "output_type": "stream",
          "text": [
            "[[0 1 2]\n",
            " [1 2 3]\n",
            " [2 3 4]\n",
            " [3 4 5]\n",
            " [4 5 6]\n",
            " [5 6 7]\n",
            " [6 7 8]\n",
            " [7 8 9]]\n"
          ],
          "name": "stdout"
        }
      ]
    },
    {
      "cell_type": "code",
      "metadata": {
        "colab": {
          "base_uri": "https://localhost:8080/"
        },
        "id": "VyLmQyaapcKx",
        "outputId": "bd467aa4-a316-42e2-d2e1-54423d71e910"
      },
      "source": [
        "answer(76)"
      ],
      "execution_count": null,
      "outputs": [
        {
          "output_type": "stream",
          "text": [
            "# Author: Joe Kington / Erik Rigtorp\n",
            "from numpy.lib import stride_tricks\n",
            "\n",
            "def rolling(a, window):\n",
            "    shape = (a.size - window + 1, window)\n",
            "    strides = (a.itemsize, a.itemsize)\n",
            "    return stride_tricks.as_strided(a, shape=shape, strides=strides)\n",
            "Z = rolling(np.arange(10), 3)\n",
            "print(Z)\n"
          ],
          "name": "stdout"
        }
      ]
    },
    {
      "cell_type": "markdown",
      "metadata": {
        "id": "jaSISWndU_t9"
      },
      "source": [
        "#### 77. How to negate a boolean, or to change the sign of a float inplace? (★★★)"
      ]
    },
    {
      "cell_type": "code",
      "metadata": {
        "id": "_e3QoJgxU_t9",
        "colab": {
          "base_uri": "https://localhost:8080/"
        },
        "outputId": "51fa5bba-7bb2-477a-f5d5-edfb5494346b"
      },
      "source": [
        "print(np.logical_not(False))\n",
        "\n",
        "A = np.arange(10)\n",
        "np.negative(A, out = A)\n",
        "print(A)"
      ],
      "execution_count": null,
      "outputs": [
        {
          "output_type": "stream",
          "text": [
            "True\n",
            "[ 0 -1 -2 -3 -4 -5 -6 -7 -8 -9]\n"
          ],
          "name": "stdout"
        }
      ]
    },
    {
      "cell_type": "code",
      "metadata": {
        "colab": {
          "base_uri": "https://localhost:8080/"
        },
        "id": "vYAImsVhsYQe",
        "outputId": "d0a53600-904b-40b3-fe65-030128dd4af5"
      },
      "source": [
        "answer(77)"
      ],
      "execution_count": null,
      "outputs": [
        {
          "output_type": "stream",
          "text": [
            "# Author: Nathaniel J. Smith\n",
            "\n",
            "Z = np.random.randint(0,2,100)\n",
            "np.logical_not(Z, out=Z)\n",
            "\n",
            "Z = np.random.uniform(-1.0,1.0,100)\n",
            "np.negative(Z, out=Z)\n"
          ],
          "name": "stdout"
        }
      ]
    },
    {
      "cell_type": "markdown",
      "metadata": {
        "id": "VRGE1O7wU_t9"
      },
      "source": [
        "#### 78. Consider 2 sets of points P0,P1 describing lines (2d) and a point p, how to compute distance from p to each line i (P0[i],P1[i])? (★★★)"
      ]
    },
    {
      "cell_type": "code",
      "metadata": {
        "colab": {
          "base_uri": "https://localhost:8080/"
        },
        "id": "kfScHsXMvbNm",
        "outputId": "fe5fb573-15a7-4af4-8f5e-4f336a62e9f1"
      },
      "source": [
        "answer(78)"
      ],
      "execution_count": null,
      "outputs": [
        {
          "output_type": "stream",
          "text": [
            "def distance(P0, P1, p):\n",
            "    T = P1 - P0\n",
            "    L = (T**2).sum(axis=1)\n",
            "    U = -((P0[:,0]-p[...,0])*T[:,0] + (P0[:,1]-p[...,1])*T[:,1]) / L\n",
            "    U = U.reshape(len(U),1)\n",
            "    D = P0 + U*T - p\n",
            "    return np.sqrt((D**2).sum(axis=1))\n",
            "\n",
            "P0 = np.random.uniform(-10,10,(10,2))\n",
            "P1 = np.random.uniform(-10,10,(10,2))\n",
            "p  = np.random.uniform(-10,10,( 1,2))\n",
            "print(distance(P0, P1, p))\n"
          ],
          "name": "stdout"
        }
      ]
    },
    {
      "cell_type": "markdown",
      "metadata": {
        "id": "W8KJktOjU_t-"
      },
      "source": [
        "#### 79. Consider 2 sets of points P0,P1 describing lines (2d) and a set of points P, how to compute distance from each point j (P[j]) to each line i (P0[i],P1[i])? (★★★)"
      ]
    },
    {
      "cell_type": "code",
      "metadata": {
        "id": "zkXRY39dU_t-",
        "colab": {
          "base_uri": "https://localhost:8080/"
        },
        "outputId": "2c59ef48-70aa-488d-a1fc-b20ed9cac2e3"
      },
      "source": [
        "answer(79)"
      ],
      "execution_count": null,
      "outputs": [
        {
          "output_type": "stream",
          "text": [
            "# Author: Italmassov Kuanysh\n",
            "\n",
            "# based on distance function from previous question\n",
            "P0 = np.random.uniform(-10, 10, (10,2))\n",
            "P1 = np.random.uniform(-10,10,(10,2))\n",
            "p = np.random.uniform(-10, 10, (10,2))\n",
            "print(np.array([distance(P0,P1,p_i) for p_i in p]))\n"
          ],
          "name": "stdout"
        }
      ]
    },
    {
      "cell_type": "markdown",
      "metadata": {
        "id": "vACcpIuFU_t-"
      },
      "source": [
        "#### 80. Consider an arbitrary array, write a function that extract a subpart with a fixed shape and centered on a given element (pad with a `fill` value when necessary) (★★★)"
      ]
    },
    {
      "cell_type": "code",
      "metadata": {
        "colab": {
          "base_uri": "https://localhost:8080/"
        },
        "id": "evBLX6xE5MJ9",
        "outputId": "63f1d30f-62aa-4e43-94d8-075eb77dfd87"
      },
      "source": [
        "answer(80)"
      ],
      "execution_count": null,
      "outputs": [
        {
          "output_type": "stream",
          "text": [
            "# Author: Nicolas Rougier\n",
            "\n",
            "Z = np.random.randint(0,10,(10,10))\n",
            "shape = (5,5)\n",
            "fill  = 0\n",
            "position = (1,1)\n",
            "\n",
            "R = np.ones(shape, dtype=Z.dtype)*fill\n",
            "P  = np.array(list(position)).astype(int)\n",
            "Rs = np.array(list(R.shape)).astype(int)\n",
            "Zs = np.array(list(Z.shape)).astype(int)\n",
            "\n",
            "R_start = np.zeros((len(shape),)).astype(int)\n",
            "R_stop  = np.array(list(shape)).astype(int)\n",
            "Z_start = (P-Rs//2)\n",
            "Z_stop  = (P+Rs//2)+Rs%2\n",
            "\n",
            "R_start = (R_start - np.minimum(Z_start,0)).tolist()\n",
            "Z_start = (np.maximum(Z_start,0)).tolist()\n",
            "R_stop = np.maximum(R_start, (R_stop - np.maximum(Z_stop-Zs,0))).tolist()\n",
            "Z_stop = (np.minimum(Z_stop,Zs)).tolist()\n",
            "\n",
            "r = [slice(start,stop) for start,stop in zip(R_start,R_stop)]\n",
            "z = [slice(start,stop) for start,stop in zip(Z_start,Z_stop)]\n",
            "R[r] = Z[z]\n",
            "print(Z)\n",
            "print(R)\n"
          ],
          "name": "stdout"
        }
      ]
    },
    {
      "cell_type": "code",
      "metadata": {
        "colab": {
          "base_uri": "https://localhost:8080/"
        },
        "id": "u979mgC55jTj",
        "outputId": "26a28833-3505-4cc1-d166-5cc99a1c1c74"
      },
      "source": [
        "Z = np.random.randint(0,10, (10,10))\n",
        "shape = (5,5)\n",
        "fill  = 0\n",
        "position = (1,1)\n",
        "\n",
        "R = np.ones(shape, dtype=Z.dtype)*fill # (5, 5) 짜리 0으로 채워진 것\n",
        "P  = np.array(list(position)).astype(int) # [1, 1]\n",
        "Rs = np.array(list(R.shape)).astype(int) # [5, 5]\n",
        "Zs = np.array(list(Z.shape)).astype(int) # [10, 10]\n",
        "\n",
        "# 0으로 채워진 R을 기준으로 시작점과 도착점을 지정\n",
        "R_start = np.zeros((len(shape),)).astype(int) # [0, 0]\n",
        "R_stop  = np.array(list(shape)).astype(int) # [5, 5]\n",
        "\n",
        "# position인 (1, 1)을 기준으로, 시작점 (-1, -1)과 도착점 (4, 4)을 잡음\n",
        "Z_start = (P-Rs//2) # [-1, -1], 위치 (1, 1) 에서 shape (5, 5)를 만들기 위해 x축과 y축으로 2씩 이동하게 됨\n",
        "Z_stop  = (P+Rs//2)+Rs%2 # [4, 4], [-1, -1]로부터 shape 만큼 5 5 씩 더해서 최종 지점을 잡음\n",
        "\n",
        "# 0으로 채워진 R을 기준으로 어느 지점부터 채워야할지를 지정\n",
        "# Z_start가 음수라면, 그만큼 0으로 채워야 하는 것이므로, 오히려 이를 빼서 실제로 채워야 하는 지점을 잡아줌\n",
        "R_start = (R_start - np.minimum(Z_start,0)).tolist() # [1, 1]\n",
        "\n",
        "# np.maximum으로 0보다 작으면 0으로 만들어줌. 이는 Z에서의 시작점 위치를 의미\n",
        "Z_start = (np.maximum(Z_start,0)).tolist() # [0, 0]\n",
        "\n",
        "# Z_stop이 실제 Zs인 10을 넘는지 확인하고, 넘지 않으면 R_stop을 그대로 사용\n",
        "R_stop = np.maximum(R_start, (R_stop - np.maximum(Z_stop-Zs,0))).tolist() # [5, 5]\n",
        "\n",
        "# Z_stop이 Zs를 넘지 않으므로, 그대로 사용\n",
        "Z_stop = (np.minimum(Z_stop,Zs)).tolist() # [4, 4]\n",
        "\n",
        "\n",
        "r = [slice(start,stop) for start,stop in zip(R_start,R_stop)]\n",
        "z = [slice(start,stop) for start,stop in zip(Z_start,Z_stop)]\n",
        "R[r] = Z[z]\n",
        "print(Z)\n",
        "print(R)"
      ],
      "execution_count": null,
      "outputs": [
        {
          "output_type": "stream",
          "text": [
            "[[6 8 0 3 5 6 6 0 7 8]\n",
            " [7 4 6 0 6 9 3 1 7 6]\n",
            " [7 3 2 3 2 3 1 2 4 0]\n",
            " [3 3 6 2 4 8 4 6 1 8]\n",
            " [1 1 4 8 2 9 0 5 4 0]\n",
            " [6 6 8 5 2 1 7 6 3 3]\n",
            " [7 2 2 7 3 7 7 0 5 4]\n",
            " [7 2 4 1 7 3 6 5 6 7]\n",
            " [5 1 8 0 2 0 5 7 2 4]\n",
            " [7 9 6 8 6 2 3 6 7 2]]\n",
            "[[0 0 0 0 0]\n",
            " [0 6 8 0 3]\n",
            " [0 7 4 6 0]\n",
            " [0 7 3 2 3]\n",
            " [0 3 3 6 2]]\n"
          ],
          "name": "stdout"
        },
        {
          "output_type": "stream",
          "text": [
            "/usr/local/lib/python3.7/dist-packages/ipykernel_launcher.py:35: FutureWarning: Using a non-tuple sequence for multidimensional indexing is deprecated; use `arr[tuple(seq)]` instead of `arr[seq]`. In the future this will be interpreted as an array index, `arr[np.array(seq)]`, which will result either in an error or a different result.\n"
          ],
          "name": "stderr"
        }
      ]
    },
    {
      "cell_type": "code",
      "metadata": {
        "colab": {
          "base_uri": "https://localhost:8080/"
        },
        "id": "XvAb7d2m07tW",
        "outputId": "20ac21d6-cb0d-4e4c-9dc7-a2f75eae3487"
      },
      "source": [
        "hint(80)"
      ],
      "execution_count": null,
      "outputs": [
        {
          "output_type": "stream",
          "text": [
            "hint: minimum maximum\n"
          ],
          "name": "stdout"
        }
      ]
    }
  ]
}